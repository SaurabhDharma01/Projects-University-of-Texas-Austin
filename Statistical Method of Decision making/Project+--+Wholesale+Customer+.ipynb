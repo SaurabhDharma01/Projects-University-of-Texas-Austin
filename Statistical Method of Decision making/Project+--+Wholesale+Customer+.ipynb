{
 "cells": [
  {
   "cell_type": "code",
   "execution_count": 86,
   "id": "171331a3",
   "metadata": {},
   "outputs": [],
   "source": [
    "import pandas as pd\n",
    "import numpy as np\n",
    "import copy\n",
    "import matplotlib.pyplot as plt\n",
    "import seaborn as sns\n",
    "sns.set(color_codes=True)\n",
    "import pylab\n",
    "import math\n",
    "%matplotlib inline\n",
    "import os"
   ]
  },
  {
   "cell_type": "code",
   "execution_count": 87,
   "id": "ccc8a871",
   "metadata": {},
   "outputs": [],
   "source": [
    "wholesaledf=pd.read_csv('Wholesale+Customers+Data.csv')"
   ]
  },
  {
   "cell_type": "markdown",
   "id": "1844147e",
   "metadata": {},
   "source": [
    "1.1 Use methods of descriptive statistics to summarize data. Which Region and which Channel spent the most? Which Region and which Channel spent the least?"
   ]
  },
  {
   "cell_type": "code",
   "execution_count": 88,
   "id": "e90ba5be",
   "metadata": {},
   "outputs": [
    {
     "data": {
      "text/html": [
       "<div>\n",
       "<style scoped>\n",
       "    .dataframe tbody tr th:only-of-type {\n",
       "        vertical-align: middle;\n",
       "    }\n",
       "\n",
       "    .dataframe tbody tr th {\n",
       "        vertical-align: top;\n",
       "    }\n",
       "\n",
       "    .dataframe thead th {\n",
       "        text-align: right;\n",
       "    }\n",
       "</style>\n",
       "<table border=\"1\" class=\"dataframe\">\n",
       "  <thead>\n",
       "    <tr style=\"text-align: right;\">\n",
       "      <th></th>\n",
       "      <th>Buyer/Spender</th>\n",
       "      <th>Channel</th>\n",
       "      <th>Region</th>\n",
       "      <th>Fresh</th>\n",
       "      <th>Milk</th>\n",
       "      <th>Grocery</th>\n",
       "      <th>Frozen</th>\n",
       "      <th>Detergents_Paper</th>\n",
       "      <th>Delicatessen</th>\n",
       "    </tr>\n",
       "  </thead>\n",
       "  <tbody>\n",
       "    <tr>\n",
       "      <th>0</th>\n",
       "      <td>1</td>\n",
       "      <td>Retail</td>\n",
       "      <td>Other</td>\n",
       "      <td>12669</td>\n",
       "      <td>9656</td>\n",
       "      <td>7561</td>\n",
       "      <td>214</td>\n",
       "      <td>2674</td>\n",
       "      <td>1338</td>\n",
       "    </tr>\n",
       "    <tr>\n",
       "      <th>1</th>\n",
       "      <td>2</td>\n",
       "      <td>Retail</td>\n",
       "      <td>Other</td>\n",
       "      <td>7057</td>\n",
       "      <td>9810</td>\n",
       "      <td>9568</td>\n",
       "      <td>1762</td>\n",
       "      <td>3293</td>\n",
       "      <td>1776</td>\n",
       "    </tr>\n",
       "    <tr>\n",
       "      <th>2</th>\n",
       "      <td>3</td>\n",
       "      <td>Retail</td>\n",
       "      <td>Other</td>\n",
       "      <td>6353</td>\n",
       "      <td>8808</td>\n",
       "      <td>7684</td>\n",
       "      <td>2405</td>\n",
       "      <td>3516</td>\n",
       "      <td>7844</td>\n",
       "    </tr>\n",
       "    <tr>\n",
       "      <th>3</th>\n",
       "      <td>4</td>\n",
       "      <td>Hotel</td>\n",
       "      <td>Other</td>\n",
       "      <td>13265</td>\n",
       "      <td>1196</td>\n",
       "      <td>4221</td>\n",
       "      <td>6404</td>\n",
       "      <td>507</td>\n",
       "      <td>1788</td>\n",
       "    </tr>\n",
       "    <tr>\n",
       "      <th>4</th>\n",
       "      <td>5</td>\n",
       "      <td>Retail</td>\n",
       "      <td>Other</td>\n",
       "      <td>22615</td>\n",
       "      <td>5410</td>\n",
       "      <td>7198</td>\n",
       "      <td>3915</td>\n",
       "      <td>1777</td>\n",
       "      <td>5185</td>\n",
       "    </tr>\n",
       "    <tr>\n",
       "      <th>...</th>\n",
       "      <td>...</td>\n",
       "      <td>...</td>\n",
       "      <td>...</td>\n",
       "      <td>...</td>\n",
       "      <td>...</td>\n",
       "      <td>...</td>\n",
       "      <td>...</td>\n",
       "      <td>...</td>\n",
       "      <td>...</td>\n",
       "    </tr>\n",
       "    <tr>\n",
       "      <th>435</th>\n",
       "      <td>436</td>\n",
       "      <td>Hotel</td>\n",
       "      <td>Other</td>\n",
       "      <td>29703</td>\n",
       "      <td>12051</td>\n",
       "      <td>16027</td>\n",
       "      <td>13135</td>\n",
       "      <td>182</td>\n",
       "      <td>2204</td>\n",
       "    </tr>\n",
       "    <tr>\n",
       "      <th>436</th>\n",
       "      <td>437</td>\n",
       "      <td>Hotel</td>\n",
       "      <td>Other</td>\n",
       "      <td>39228</td>\n",
       "      <td>1431</td>\n",
       "      <td>764</td>\n",
       "      <td>4510</td>\n",
       "      <td>93</td>\n",
       "      <td>2346</td>\n",
       "    </tr>\n",
       "    <tr>\n",
       "      <th>437</th>\n",
       "      <td>438</td>\n",
       "      <td>Retail</td>\n",
       "      <td>Other</td>\n",
       "      <td>14531</td>\n",
       "      <td>15488</td>\n",
       "      <td>30243</td>\n",
       "      <td>437</td>\n",
       "      <td>14841</td>\n",
       "      <td>1867</td>\n",
       "    </tr>\n",
       "    <tr>\n",
       "      <th>438</th>\n",
       "      <td>439</td>\n",
       "      <td>Hotel</td>\n",
       "      <td>Other</td>\n",
       "      <td>10290</td>\n",
       "      <td>1981</td>\n",
       "      <td>2232</td>\n",
       "      <td>1038</td>\n",
       "      <td>168</td>\n",
       "      <td>2125</td>\n",
       "    </tr>\n",
       "    <tr>\n",
       "      <th>439</th>\n",
       "      <td>440</td>\n",
       "      <td>Hotel</td>\n",
       "      <td>Other</td>\n",
       "      <td>2787</td>\n",
       "      <td>1698</td>\n",
       "      <td>2510</td>\n",
       "      <td>65</td>\n",
       "      <td>477</td>\n",
       "      <td>52</td>\n",
       "    </tr>\n",
       "  </tbody>\n",
       "</table>\n",
       "<p>440 rows × 9 columns</p>\n",
       "</div>"
      ],
      "text/plain": [
       "     Buyer/Spender Channel Region  Fresh   Milk  Grocery  Frozen  \\\n",
       "0                1  Retail  Other  12669   9656     7561     214   \n",
       "1                2  Retail  Other   7057   9810     9568    1762   \n",
       "2                3  Retail  Other   6353   8808     7684    2405   \n",
       "3                4   Hotel  Other  13265   1196     4221    6404   \n",
       "4                5  Retail  Other  22615   5410     7198    3915   \n",
       "..             ...     ...    ...    ...    ...      ...     ...   \n",
       "435            436   Hotel  Other  29703  12051    16027   13135   \n",
       "436            437   Hotel  Other  39228   1431      764    4510   \n",
       "437            438  Retail  Other  14531  15488    30243     437   \n",
       "438            439   Hotel  Other  10290   1981     2232    1038   \n",
       "439            440   Hotel  Other   2787   1698     2510      65   \n",
       "\n",
       "     Detergents_Paper  Delicatessen  \n",
       "0                2674          1338  \n",
       "1                3293          1776  \n",
       "2                3516          7844  \n",
       "3                 507          1788  \n",
       "4                1777          5185  \n",
       "..                ...           ...  \n",
       "435               182          2204  \n",
       "436                93          2346  \n",
       "437             14841          1867  \n",
       "438               168          2125  \n",
       "439               477            52  \n",
       "\n",
       "[440 rows x 9 columns]"
      ]
     },
     "execution_count": 88,
     "metadata": {},
     "output_type": "execute_result"
    }
   ],
   "source": [
    "wholesaledf"
   ]
  },
  {
   "cell_type": "code",
   "execution_count": 89,
   "id": "fb4832bd",
   "metadata": {},
   "outputs": [],
   "source": [
    "del wholesaledf['Buyer/Spender']"
   ]
  },
  {
   "cell_type": "code",
   "execution_count": 90,
   "id": "645ce90c",
   "metadata": {},
   "outputs": [
    {
     "data": {
      "text/html": [
       "<div>\n",
       "<style scoped>\n",
       "    .dataframe tbody tr th:only-of-type {\n",
       "        vertical-align: middle;\n",
       "    }\n",
       "\n",
       "    .dataframe tbody tr th {\n",
       "        vertical-align: top;\n",
       "    }\n",
       "\n",
       "    .dataframe thead th {\n",
       "        text-align: right;\n",
       "    }\n",
       "</style>\n",
       "<table border=\"1\" class=\"dataframe\">\n",
       "  <thead>\n",
       "    <tr style=\"text-align: right;\">\n",
       "      <th></th>\n",
       "      <th>Channel</th>\n",
       "      <th>Region</th>\n",
       "      <th>Fresh</th>\n",
       "      <th>Milk</th>\n",
       "      <th>Grocery</th>\n",
       "      <th>Frozen</th>\n",
       "      <th>Detergents_Paper</th>\n",
       "      <th>Delicatessen</th>\n",
       "    </tr>\n",
       "  </thead>\n",
       "  <tbody>\n",
       "    <tr>\n",
       "      <th>0</th>\n",
       "      <td>Retail</td>\n",
       "      <td>Other</td>\n",
       "      <td>12669</td>\n",
       "      <td>9656</td>\n",
       "      <td>7561</td>\n",
       "      <td>214</td>\n",
       "      <td>2674</td>\n",
       "      <td>1338</td>\n",
       "    </tr>\n",
       "    <tr>\n",
       "      <th>1</th>\n",
       "      <td>Retail</td>\n",
       "      <td>Other</td>\n",
       "      <td>7057</td>\n",
       "      <td>9810</td>\n",
       "      <td>9568</td>\n",
       "      <td>1762</td>\n",
       "      <td>3293</td>\n",
       "      <td>1776</td>\n",
       "    </tr>\n",
       "    <tr>\n",
       "      <th>2</th>\n",
       "      <td>Retail</td>\n",
       "      <td>Other</td>\n",
       "      <td>6353</td>\n",
       "      <td>8808</td>\n",
       "      <td>7684</td>\n",
       "      <td>2405</td>\n",
       "      <td>3516</td>\n",
       "      <td>7844</td>\n",
       "    </tr>\n",
       "    <tr>\n",
       "      <th>3</th>\n",
       "      <td>Hotel</td>\n",
       "      <td>Other</td>\n",
       "      <td>13265</td>\n",
       "      <td>1196</td>\n",
       "      <td>4221</td>\n",
       "      <td>6404</td>\n",
       "      <td>507</td>\n",
       "      <td>1788</td>\n",
       "    </tr>\n",
       "    <tr>\n",
       "      <th>4</th>\n",
       "      <td>Retail</td>\n",
       "      <td>Other</td>\n",
       "      <td>22615</td>\n",
       "      <td>5410</td>\n",
       "      <td>7198</td>\n",
       "      <td>3915</td>\n",
       "      <td>1777</td>\n",
       "      <td>5185</td>\n",
       "    </tr>\n",
       "    <tr>\n",
       "      <th>...</th>\n",
       "      <td>...</td>\n",
       "      <td>...</td>\n",
       "      <td>...</td>\n",
       "      <td>...</td>\n",
       "      <td>...</td>\n",
       "      <td>...</td>\n",
       "      <td>...</td>\n",
       "      <td>...</td>\n",
       "    </tr>\n",
       "    <tr>\n",
       "      <th>435</th>\n",
       "      <td>Hotel</td>\n",
       "      <td>Other</td>\n",
       "      <td>29703</td>\n",
       "      <td>12051</td>\n",
       "      <td>16027</td>\n",
       "      <td>13135</td>\n",
       "      <td>182</td>\n",
       "      <td>2204</td>\n",
       "    </tr>\n",
       "    <tr>\n",
       "      <th>436</th>\n",
       "      <td>Hotel</td>\n",
       "      <td>Other</td>\n",
       "      <td>39228</td>\n",
       "      <td>1431</td>\n",
       "      <td>764</td>\n",
       "      <td>4510</td>\n",
       "      <td>93</td>\n",
       "      <td>2346</td>\n",
       "    </tr>\n",
       "    <tr>\n",
       "      <th>437</th>\n",
       "      <td>Retail</td>\n",
       "      <td>Other</td>\n",
       "      <td>14531</td>\n",
       "      <td>15488</td>\n",
       "      <td>30243</td>\n",
       "      <td>437</td>\n",
       "      <td>14841</td>\n",
       "      <td>1867</td>\n",
       "    </tr>\n",
       "    <tr>\n",
       "      <th>438</th>\n",
       "      <td>Hotel</td>\n",
       "      <td>Other</td>\n",
       "      <td>10290</td>\n",
       "      <td>1981</td>\n",
       "      <td>2232</td>\n",
       "      <td>1038</td>\n",
       "      <td>168</td>\n",
       "      <td>2125</td>\n",
       "    </tr>\n",
       "    <tr>\n",
       "      <th>439</th>\n",
       "      <td>Hotel</td>\n",
       "      <td>Other</td>\n",
       "      <td>2787</td>\n",
       "      <td>1698</td>\n",
       "      <td>2510</td>\n",
       "      <td>65</td>\n",
       "      <td>477</td>\n",
       "      <td>52</td>\n",
       "    </tr>\n",
       "  </tbody>\n",
       "</table>\n",
       "<p>440 rows × 8 columns</p>\n",
       "</div>"
      ],
      "text/plain": [
       "    Channel Region  Fresh   Milk  Grocery  Frozen  Detergents_Paper  \\\n",
       "0    Retail  Other  12669   9656     7561     214              2674   \n",
       "1    Retail  Other   7057   9810     9568    1762              3293   \n",
       "2    Retail  Other   6353   8808     7684    2405              3516   \n",
       "3     Hotel  Other  13265   1196     4221    6404               507   \n",
       "4    Retail  Other  22615   5410     7198    3915              1777   \n",
       "..      ...    ...    ...    ...      ...     ...               ...   \n",
       "435   Hotel  Other  29703  12051    16027   13135               182   \n",
       "436   Hotel  Other  39228   1431      764    4510                93   \n",
       "437  Retail  Other  14531  15488    30243     437             14841   \n",
       "438   Hotel  Other  10290   1981     2232    1038               168   \n",
       "439   Hotel  Other   2787   1698     2510      65               477   \n",
       "\n",
       "     Delicatessen  \n",
       "0            1338  \n",
       "1            1776  \n",
       "2            7844  \n",
       "3            1788  \n",
       "4            5185  \n",
       "..            ...  \n",
       "435          2204  \n",
       "436          2346  \n",
       "437          1867  \n",
       "438          2125  \n",
       "439            52  \n",
       "\n",
       "[440 rows x 8 columns]"
      ]
     },
     "execution_count": 90,
     "metadata": {},
     "output_type": "execute_result"
    }
   ],
   "source": [
    "wholesaledf"
   ]
  },
  {
   "cell_type": "code",
   "execution_count": 91,
   "id": "d5961059",
   "metadata": {},
   "outputs": [
    {
     "name": "stdout",
     "output_type": "stream",
     "text": [
      "<class 'pandas.core.frame.DataFrame'>\n",
      "RangeIndex: 440 entries, 0 to 439\n",
      "Data columns (total 8 columns):\n",
      " #   Column            Non-Null Count  Dtype \n",
      "---  ------            --------------  ----- \n",
      " 0   Channel           440 non-null    object\n",
      " 1   Region            440 non-null    object\n",
      " 2   Fresh             440 non-null    int64 \n",
      " 3   Milk              440 non-null    int64 \n",
      " 4   Grocery           440 non-null    int64 \n",
      " 5   Frozen            440 non-null    int64 \n",
      " 6   Detergents_Paper  440 non-null    int64 \n",
      " 7   Delicatessen      440 non-null    int64 \n",
      "dtypes: int64(6), object(2)\n",
      "memory usage: 27.6+ KB\n"
     ]
    }
   ],
   "source": [
    "wholesaledf.info()"
   ]
  },
  {
   "cell_type": "code",
   "execution_count": 92,
   "id": "1c12a5a9",
   "metadata": {},
   "outputs": [
    {
     "data": {
      "text/html": [
       "<div>\n",
       "<style scoped>\n",
       "    .dataframe tbody tr th:only-of-type {\n",
       "        vertical-align: middle;\n",
       "    }\n",
       "\n",
       "    .dataframe tbody tr th {\n",
       "        vertical-align: top;\n",
       "    }\n",
       "\n",
       "    .dataframe thead th {\n",
       "        text-align: right;\n",
       "    }\n",
       "</style>\n",
       "<table border=\"1\" class=\"dataframe\">\n",
       "  <thead>\n",
       "    <tr style=\"text-align: right;\">\n",
       "      <th></th>\n",
       "      <th>count</th>\n",
       "      <th>unique</th>\n",
       "      <th>top</th>\n",
       "      <th>freq</th>\n",
       "      <th>mean</th>\n",
       "      <th>std</th>\n",
       "      <th>min</th>\n",
       "      <th>25%</th>\n",
       "      <th>50%</th>\n",
       "      <th>75%</th>\n",
       "      <th>max</th>\n",
       "    </tr>\n",
       "  </thead>\n",
       "  <tbody>\n",
       "    <tr>\n",
       "      <th>Channel</th>\n",
       "      <td>440</td>\n",
       "      <td>2</td>\n",
       "      <td>Hotel</td>\n",
       "      <td>298</td>\n",
       "      <td>NaN</td>\n",
       "      <td>NaN</td>\n",
       "      <td>NaN</td>\n",
       "      <td>NaN</td>\n",
       "      <td>NaN</td>\n",
       "      <td>NaN</td>\n",
       "      <td>NaN</td>\n",
       "    </tr>\n",
       "    <tr>\n",
       "      <th>Region</th>\n",
       "      <td>440</td>\n",
       "      <td>3</td>\n",
       "      <td>Other</td>\n",
       "      <td>316</td>\n",
       "      <td>NaN</td>\n",
       "      <td>NaN</td>\n",
       "      <td>NaN</td>\n",
       "      <td>NaN</td>\n",
       "      <td>NaN</td>\n",
       "      <td>NaN</td>\n",
       "      <td>NaN</td>\n",
       "    </tr>\n",
       "    <tr>\n",
       "      <th>Fresh</th>\n",
       "      <td>440.0</td>\n",
       "      <td>NaN</td>\n",
       "      <td>NaN</td>\n",
       "      <td>NaN</td>\n",
       "      <td>12000.297727</td>\n",
       "      <td>12647.328865</td>\n",
       "      <td>3.0</td>\n",
       "      <td>3127.75</td>\n",
       "      <td>8504.0</td>\n",
       "      <td>16933.75</td>\n",
       "      <td>112151.0</td>\n",
       "    </tr>\n",
       "    <tr>\n",
       "      <th>Milk</th>\n",
       "      <td>440.0</td>\n",
       "      <td>NaN</td>\n",
       "      <td>NaN</td>\n",
       "      <td>NaN</td>\n",
       "      <td>5796.265909</td>\n",
       "      <td>7380.377175</td>\n",
       "      <td>55.0</td>\n",
       "      <td>1533.0</td>\n",
       "      <td>3627.0</td>\n",
       "      <td>7190.25</td>\n",
       "      <td>73498.0</td>\n",
       "    </tr>\n",
       "    <tr>\n",
       "      <th>Grocery</th>\n",
       "      <td>440.0</td>\n",
       "      <td>NaN</td>\n",
       "      <td>NaN</td>\n",
       "      <td>NaN</td>\n",
       "      <td>7951.277273</td>\n",
       "      <td>9503.162829</td>\n",
       "      <td>3.0</td>\n",
       "      <td>2153.0</td>\n",
       "      <td>4755.5</td>\n",
       "      <td>10655.75</td>\n",
       "      <td>92780.0</td>\n",
       "    </tr>\n",
       "    <tr>\n",
       "      <th>Frozen</th>\n",
       "      <td>440.0</td>\n",
       "      <td>NaN</td>\n",
       "      <td>NaN</td>\n",
       "      <td>NaN</td>\n",
       "      <td>3071.931818</td>\n",
       "      <td>4854.673333</td>\n",
       "      <td>25.0</td>\n",
       "      <td>742.25</td>\n",
       "      <td>1526.0</td>\n",
       "      <td>3554.25</td>\n",
       "      <td>60869.0</td>\n",
       "    </tr>\n",
       "    <tr>\n",
       "      <th>Detergents_Paper</th>\n",
       "      <td>440.0</td>\n",
       "      <td>NaN</td>\n",
       "      <td>NaN</td>\n",
       "      <td>NaN</td>\n",
       "      <td>2881.493182</td>\n",
       "      <td>4767.854448</td>\n",
       "      <td>3.0</td>\n",
       "      <td>256.75</td>\n",
       "      <td>816.5</td>\n",
       "      <td>3922.0</td>\n",
       "      <td>40827.0</td>\n",
       "    </tr>\n",
       "    <tr>\n",
       "      <th>Delicatessen</th>\n",
       "      <td>440.0</td>\n",
       "      <td>NaN</td>\n",
       "      <td>NaN</td>\n",
       "      <td>NaN</td>\n",
       "      <td>1524.870455</td>\n",
       "      <td>2820.105937</td>\n",
       "      <td>3.0</td>\n",
       "      <td>408.25</td>\n",
       "      <td>965.5</td>\n",
       "      <td>1820.25</td>\n",
       "      <td>47943.0</td>\n",
       "    </tr>\n",
       "  </tbody>\n",
       "</table>\n",
       "</div>"
      ],
      "text/plain": [
       "                  count unique    top freq          mean           std   min  \\\n",
       "Channel             440      2  Hotel  298           NaN           NaN   NaN   \n",
       "Region              440      3  Other  316           NaN           NaN   NaN   \n",
       "Fresh             440.0    NaN    NaN  NaN  12000.297727  12647.328865   3.0   \n",
       "Milk              440.0    NaN    NaN  NaN   5796.265909   7380.377175  55.0   \n",
       "Grocery           440.0    NaN    NaN  NaN   7951.277273   9503.162829   3.0   \n",
       "Frozen            440.0    NaN    NaN  NaN   3071.931818   4854.673333  25.0   \n",
       "Detergents_Paper  440.0    NaN    NaN  NaN   2881.493182   4767.854448   3.0   \n",
       "Delicatessen      440.0    NaN    NaN  NaN   1524.870455   2820.105937   3.0   \n",
       "\n",
       "                      25%     50%       75%       max  \n",
       "Channel               NaN     NaN       NaN       NaN  \n",
       "Region                NaN     NaN       NaN       NaN  \n",
       "Fresh             3127.75  8504.0  16933.75  112151.0  \n",
       "Milk               1533.0  3627.0   7190.25   73498.0  \n",
       "Grocery            2153.0  4755.5  10655.75   92780.0  \n",
       "Frozen             742.25  1526.0   3554.25   60869.0  \n",
       "Detergents_Paper   256.75   816.5    3922.0   40827.0  \n",
       "Delicatessen       408.25   965.5   1820.25   47943.0  "
      ]
     },
     "execution_count": 92,
     "metadata": {},
     "output_type": "execute_result"
    }
   ],
   "source": [
    "wholesaledf.describe(include='all').T"
   ]
  },
  {
   "cell_type": "code",
   "execution_count": 93,
   "id": "93d95db1",
   "metadata": {},
   "outputs": [
    {
     "data": {
      "text/plain": [
       "0        3\n",
       "1      514\n",
       "2     3366\n",
       "3     7149\n",
       "4     8040\n",
       "5     9670\n",
       "6    18044\n",
       "dtype: int64"
      ]
     },
     "execution_count": 93,
     "metadata": {},
     "output_type": "execute_result"
    }
   ],
   "source": [
    "wholesaledf['Fresh'].mode()"
   ]
  },
  {
   "cell_type": "code",
   "execution_count": 94,
   "id": "8e5cabdb",
   "metadata": {},
   "outputs": [
    {
     "data": {
      "text/plain": [
       "Hotel     298\n",
       "Retail    142\n",
       "Name: Channel, dtype: int64"
      ]
     },
     "execution_count": 94,
     "metadata": {},
     "output_type": "execute_result"
    }
   ],
   "source": [
    "wholesaledf['Channel'].value_counts()"
   ]
  },
  {
   "cell_type": "code",
   "execution_count": 95,
   "id": "c555e453",
   "metadata": {},
   "outputs": [
    {
     "data": {
      "image/png": "[encoded data removed]",
      "text/plain": [
       "<Figure size 1440x1440 with 27 Axes>"
      ]
     },
     "metadata": {
      "needs_background": "light"
     },
     "output_type": "display_data"
    }
   ],
   "source": [
    "pairplot=sns.pairplot(wholesaledf, kind='reg',corner= True);\n",
    "pairplot.fig.set_size_inches(20,20)"
   ]
  },
  {
   "cell_type": "code",
   "execution_count": 96,
   "id": "e99db0ed",
   "metadata": {
    "scrolled": true
   },
   "outputs": [
    {
     "data": {
      "text/html": [
       "<div>\n",
       "<style scoped>\n",
       "    .dataframe tbody tr th:only-of-type {\n",
       "        vertical-align: middle;\n",
       "    }\n",
       "\n",
       "    .dataframe tbody tr th {\n",
       "        vertical-align: top;\n",
       "    }\n",
       "\n",
       "    .dataframe thead th {\n",
       "        text-align: right;\n",
       "    }\n",
       "</style>\n",
       "<table border=\"1\" class=\"dataframe\">\n",
       "  <thead>\n",
       "    <tr style=\"text-align: right;\">\n",
       "      <th></th>\n",
       "      <th>Fresh</th>\n",
       "      <th>Milk</th>\n",
       "      <th>Grocery</th>\n",
       "      <th>Frozen</th>\n",
       "      <th>Detergents_Paper</th>\n",
       "      <th>Delicatessen</th>\n",
       "    </tr>\n",
       "  </thead>\n",
       "  <tbody>\n",
       "    <tr>\n",
       "      <th>Fresh</th>\n",
       "      <td>1.000000</td>\n",
       "      <td>0.100510</td>\n",
       "      <td>-0.011854</td>\n",
       "      <td>0.345881</td>\n",
       "      <td>-0.101953</td>\n",
       "      <td>0.244690</td>\n",
       "    </tr>\n",
       "    <tr>\n",
       "      <th>Milk</th>\n",
       "      <td>0.100510</td>\n",
       "      <td>1.000000</td>\n",
       "      <td>0.728335</td>\n",
       "      <td>0.123994</td>\n",
       "      <td>0.661816</td>\n",
       "      <td>0.406368</td>\n",
       "    </tr>\n",
       "    <tr>\n",
       "      <th>Grocery</th>\n",
       "      <td>-0.011854</td>\n",
       "      <td>0.728335</td>\n",
       "      <td>1.000000</td>\n",
       "      <td>-0.040193</td>\n",
       "      <td>0.924641</td>\n",
       "      <td>0.205497</td>\n",
       "    </tr>\n",
       "    <tr>\n",
       "      <th>Frozen</th>\n",
       "      <td>0.345881</td>\n",
       "      <td>0.123994</td>\n",
       "      <td>-0.040193</td>\n",
       "      <td>1.000000</td>\n",
       "      <td>-0.131525</td>\n",
       "      <td>0.390947</td>\n",
       "    </tr>\n",
       "    <tr>\n",
       "      <th>Detergents_Paper</th>\n",
       "      <td>-0.101953</td>\n",
       "      <td>0.661816</td>\n",
       "      <td>0.924641</td>\n",
       "      <td>-0.131525</td>\n",
       "      <td>1.000000</td>\n",
       "      <td>0.069291</td>\n",
       "    </tr>\n",
       "    <tr>\n",
       "      <th>Delicatessen</th>\n",
       "      <td>0.244690</td>\n",
       "      <td>0.406368</td>\n",
       "      <td>0.205497</td>\n",
       "      <td>0.390947</td>\n",
       "      <td>0.069291</td>\n",
       "      <td>1.000000</td>\n",
       "    </tr>\n",
       "  </tbody>\n",
       "</table>\n",
       "</div>"
      ],
      "text/plain": [
       "                     Fresh      Milk   Grocery    Frozen  Detergents_Paper  \\\n",
       "Fresh             1.000000  0.100510 -0.011854  0.345881         -0.101953   \n",
       "Milk              0.100510  1.000000  0.728335  0.123994          0.661816   \n",
       "Grocery          -0.011854  0.728335  1.000000 -0.040193          0.924641   \n",
       "Frozen            0.345881  0.123994 -0.040193  1.000000         -0.131525   \n",
       "Detergents_Paper -0.101953  0.661816  0.924641 -0.131525          1.000000   \n",
       "Delicatessen      0.244690  0.406368  0.205497  0.390947          0.069291   \n",
       "\n",
       "                  Delicatessen  \n",
       "Fresh                 0.244690  \n",
       "Milk                  0.406368  \n",
       "Grocery               0.205497  \n",
       "Frozen                0.390947  \n",
       "Detergents_Paper      0.069291  \n",
       "Delicatessen          1.000000  "
      ]
     },
     "execution_count": 96,
     "metadata": {},
     "output_type": "execute_result"
    }
   ],
   "source": [
    "wholesalecorrdf = wholesaledf.corr()\n",
    "wholesalecorrdf"
   ]
  },
  {
   "cell_type": "code",
   "execution_count": 97,
   "id": "fb504697",
   "metadata": {},
   "outputs": [
    {
     "data": {
      "image/png": "[encoded data removed]",
      "text/plain": [
       "<Figure size 720x720 with 2 Axes>"
      ]
     },
     "metadata": {
      "needs_background": "light"
     },
     "output_type": "display_data"
    }
   ],
   "source": [
    "plt.figure(figsize=(10, 10))\n",
    "sns.heatmap(wholesalecorrdf,annot=True, square= True, linecolor = 'blue',linewidths =2,center=0.5);"
   ]
  },
  {
   "cell_type": "markdown",
   "id": "5d34896b",
   "metadata": {},
   "source": [
    "Which Region and which Channel spent the most?"
   ]
  },
  {
   "cell_type": "code",
   "execution_count": 98,
   "id": "c66507c6",
   "metadata": {},
   "outputs": [
    {
     "data": {
      "text/html": [
       "<div>\n",
       "<style scoped>\n",
       "    .dataframe tbody tr th:only-of-type {\n",
       "        vertical-align: middle;\n",
       "    }\n",
       "\n",
       "    .dataframe tbody tr th {\n",
       "        vertical-align: top;\n",
       "    }\n",
       "\n",
       "    .dataframe thead th {\n",
       "        text-align: right;\n",
       "    }\n",
       "</style>\n",
       "<table border=\"1\" class=\"dataframe\">\n",
       "  <thead>\n",
       "    <tr style=\"text-align: right;\">\n",
       "      <th></th>\n",
       "      <th>Channel</th>\n",
       "      <th>Region</th>\n",
       "      <th>Fresh</th>\n",
       "      <th>Milk</th>\n",
       "      <th>Grocery</th>\n",
       "      <th>Frozen</th>\n",
       "      <th>Detergents_Paper</th>\n",
       "      <th>Delicatessen</th>\n",
       "      <th>Total Spending</th>\n",
       "    </tr>\n",
       "  </thead>\n",
       "  <tbody>\n",
       "    <tr>\n",
       "      <th>0</th>\n",
       "      <td>Retail</td>\n",
       "      <td>Other</td>\n",
       "      <td>12669</td>\n",
       "      <td>9656</td>\n",
       "      <td>7561</td>\n",
       "      <td>214</td>\n",
       "      <td>2674</td>\n",
       "      <td>1338</td>\n",
       "      <td>34112</td>\n",
       "    </tr>\n",
       "    <tr>\n",
       "      <th>1</th>\n",
       "      <td>Retail</td>\n",
       "      <td>Other</td>\n",
       "      <td>7057</td>\n",
       "      <td>9810</td>\n",
       "      <td>9568</td>\n",
       "      <td>1762</td>\n",
       "      <td>3293</td>\n",
       "      <td>1776</td>\n",
       "      <td>33266</td>\n",
       "    </tr>\n",
       "    <tr>\n",
       "      <th>2</th>\n",
       "      <td>Retail</td>\n",
       "      <td>Other</td>\n",
       "      <td>6353</td>\n",
       "      <td>8808</td>\n",
       "      <td>7684</td>\n",
       "      <td>2405</td>\n",
       "      <td>3516</td>\n",
       "      <td>7844</td>\n",
       "      <td>36610</td>\n",
       "    </tr>\n",
       "    <tr>\n",
       "      <th>3</th>\n",
       "      <td>Hotel</td>\n",
       "      <td>Other</td>\n",
       "      <td>13265</td>\n",
       "      <td>1196</td>\n",
       "      <td>4221</td>\n",
       "      <td>6404</td>\n",
       "      <td>507</td>\n",
       "      <td>1788</td>\n",
       "      <td>27381</td>\n",
       "    </tr>\n",
       "    <tr>\n",
       "      <th>4</th>\n",
       "      <td>Retail</td>\n",
       "      <td>Other</td>\n",
       "      <td>22615</td>\n",
       "      <td>5410</td>\n",
       "      <td>7198</td>\n",
       "      <td>3915</td>\n",
       "      <td>1777</td>\n",
       "      <td>5185</td>\n",
       "      <td>46100</td>\n",
       "    </tr>\n",
       "    <tr>\n",
       "      <th>...</th>\n",
       "      <td>...</td>\n",
       "      <td>...</td>\n",
       "      <td>...</td>\n",
       "      <td>...</td>\n",
       "      <td>...</td>\n",
       "      <td>...</td>\n",
       "      <td>...</td>\n",
       "      <td>...</td>\n",
       "      <td>...</td>\n",
       "    </tr>\n",
       "    <tr>\n",
       "      <th>435</th>\n",
       "      <td>Hotel</td>\n",
       "      <td>Other</td>\n",
       "      <td>29703</td>\n",
       "      <td>12051</td>\n",
       "      <td>16027</td>\n",
       "      <td>13135</td>\n",
       "      <td>182</td>\n",
       "      <td>2204</td>\n",
       "      <td>73302</td>\n",
       "    </tr>\n",
       "    <tr>\n",
       "      <th>436</th>\n",
       "      <td>Hotel</td>\n",
       "      <td>Other</td>\n",
       "      <td>39228</td>\n",
       "      <td>1431</td>\n",
       "      <td>764</td>\n",
       "      <td>4510</td>\n",
       "      <td>93</td>\n",
       "      <td>2346</td>\n",
       "      <td>48372</td>\n",
       "    </tr>\n",
       "    <tr>\n",
       "      <th>437</th>\n",
       "      <td>Retail</td>\n",
       "      <td>Other</td>\n",
       "      <td>14531</td>\n",
       "      <td>15488</td>\n",
       "      <td>30243</td>\n",
       "      <td>437</td>\n",
       "      <td>14841</td>\n",
       "      <td>1867</td>\n",
       "      <td>77407</td>\n",
       "    </tr>\n",
       "    <tr>\n",
       "      <th>438</th>\n",
       "      <td>Hotel</td>\n",
       "      <td>Other</td>\n",
       "      <td>10290</td>\n",
       "      <td>1981</td>\n",
       "      <td>2232</td>\n",
       "      <td>1038</td>\n",
       "      <td>168</td>\n",
       "      <td>2125</td>\n",
       "      <td>17834</td>\n",
       "    </tr>\n",
       "    <tr>\n",
       "      <th>439</th>\n",
       "      <td>Hotel</td>\n",
       "      <td>Other</td>\n",
       "      <td>2787</td>\n",
       "      <td>1698</td>\n",
       "      <td>2510</td>\n",
       "      <td>65</td>\n",
       "      <td>477</td>\n",
       "      <td>52</td>\n",
       "      <td>7589</td>\n",
       "    </tr>\n",
       "  </tbody>\n",
       "</table>\n",
       "<p>440 rows × 9 columns</p>\n",
       "</div>"
      ],
      "text/plain": [
       "    Channel Region  Fresh   Milk  Grocery  Frozen  Detergents_Paper  \\\n",
       "0    Retail  Other  12669   9656     7561     214              2674   \n",
       "1    Retail  Other   7057   9810     9568    1762              3293   \n",
       "2    Retail  Other   6353   8808     7684    2405              3516   \n",
       "3     Hotel  Other  13265   1196     4221    6404               507   \n",
       "4    Retail  Other  22615   5410     7198    3915              1777   \n",
       "..      ...    ...    ...    ...      ...     ...               ...   \n",
       "435   Hotel  Other  29703  12051    16027   13135               182   \n",
       "436   Hotel  Other  39228   1431      764    4510                93   \n",
       "437  Retail  Other  14531  15488    30243     437             14841   \n",
       "438   Hotel  Other  10290   1981     2232    1038               168   \n",
       "439   Hotel  Other   2787   1698     2510      65               477   \n",
       "\n",
       "     Delicatessen  Total Spending  \n",
       "0            1338           34112  \n",
       "1            1776           33266  \n",
       "2            7844           36610  \n",
       "3            1788           27381  \n",
       "4            5185           46100  \n",
       "..            ...             ...  \n",
       "435          2204           73302  \n",
       "436          2346           48372  \n",
       "437          1867           77407  \n",
       "438          2125           17834  \n",
       "439            52            7589  \n",
       "\n",
       "[440 rows x 9 columns]"
      ]
     },
     "execution_count": 98,
     "metadata": {},
     "output_type": "execute_result"
    }
   ],
   "source": [
    "wholesalespendingdf=pd.DataFrame(wholesaledf)\n",
    "wholesalespendingdf['Total Spending']= wholesaledf['Fresh']+wholesaledf['Milk']+wholesaledf['Grocery']+wholesaledf['Frozen']+wholesaledf['Detergents_Paper']+wholesaledf['Delicatessen']\n",
    "wholesalespendingdf"
   ]
  },
  {
   "cell_type": "code",
   "execution_count": 99,
   "id": "65003f22",
   "metadata": {
    "scrolled": true
   },
   "outputs": [
    {
     "name": "stdout",
     "output_type": "stream",
     "text": [
      "Region\n",
      "Lisbon     2386813\n",
      "Oporto     1555088\n",
      "Other     10677599\n",
      "Name: Total Spending, dtype: int64\n"
     ]
    }
   ],
   "source": [
    "regiondf = wholesalespendingdf.groupby('Region')['Total Spending'].sum()\n",
    "print(regiondf)"
   ]
  },
  {
   "cell_type": "code",
   "execution_count": 100,
   "id": "94de678f",
   "metadata": {},
   "outputs": [
    {
     "data": {
      "text/html": [
       "<div>\n",
       "<style scoped>\n",
       "    .dataframe tbody tr th:only-of-type {\n",
       "        vertical-align: middle;\n",
       "    }\n",
       "\n",
       "    .dataframe tbody tr th {\n",
       "        vertical-align: top;\n",
       "    }\n",
       "\n",
       "    .dataframe thead th {\n",
       "        text-align: right;\n",
       "    }\n",
       "</style>\n",
       "<table border=\"1\" class=\"dataframe\">\n",
       "  <thead>\n",
       "    <tr style=\"text-align: right;\">\n",
       "      <th></th>\n",
       "      <th>Total Spending</th>\n",
       "    </tr>\n",
       "    <tr>\n",
       "      <th>Region</th>\n",
       "      <th></th>\n",
       "    </tr>\n",
       "  </thead>\n",
       "  <tbody>\n",
       "    <tr>\n",
       "      <th>Lisbon</th>\n",
       "      <td>2386813</td>\n",
       "    </tr>\n",
       "    <tr>\n",
       "      <th>Oporto</th>\n",
       "      <td>1555088</td>\n",
       "    </tr>\n",
       "    <tr>\n",
       "      <th>Other</th>\n",
       "      <td>10677599</td>\n",
       "    </tr>\n",
       "  </tbody>\n",
       "</table>\n",
       "</div>"
      ],
      "text/plain": [
       "        Total Spending\n",
       "Region                \n",
       "Lisbon         2386813\n",
       "Oporto         1555088\n",
       "Other         10677599"
      ]
     },
     "execution_count": 100,
     "metadata": {},
     "output_type": "execute_result"
    }
   ],
   "source": [
    "pd.DataFrame(regiondf)"
   ]
  },
  {
   "cell_type": "code",
   "execution_count": 101,
   "id": "e1a2348a",
   "metadata": {},
   "outputs": [
    {
     "data": {
      "image/png": "[encoded data removed]",
      "text/plain": [
       "<Figure size 432x288 with 1 Axes>"
      ]
     },
     "metadata": {
      "needs_background": "light"
     },
     "output_type": "display_data"
    }
   ],
   "source": [
    "x=['Lisbon','Oporto','Other']\n",
    "y=[2386813,1555088,10677599]\n",
    "plt.bar(x,y);"
   ]
  },
  {
   "cell_type": "code",
   "execution_count": 102,
   "id": "d87eb752",
   "metadata": {
    "scrolled": true
   },
   "outputs": [
    {
     "name": "stdout",
     "output_type": "stream",
     "text": [
      "Channel\n",
      "Hotel     7999569\n",
      "Retail    6619931\n",
      "Name: Total Spending, dtype: int64\n"
     ]
    }
   ],
   "source": [
    "pd.DataFramechanneldf = wholesalespendingdf.groupby('Channel')['Total Spending'].sum()\n",
    "print(channeldf)"
   ]
  },
  {
   "cell_type": "code",
   "execution_count": 103,
   "id": "a70c51e3",
   "metadata": {},
   "outputs": [
    {
     "data": {
      "text/html": [
       "<div>\n",
       "<style scoped>\n",
       "    .dataframe tbody tr th:only-of-type {\n",
       "        vertical-align: middle;\n",
       "    }\n",
       "\n",
       "    .dataframe tbody tr th {\n",
       "        vertical-align: top;\n",
       "    }\n",
       "\n",
       "    .dataframe thead th {\n",
       "        text-align: right;\n",
       "    }\n",
       "</style>\n",
       "<table border=\"1\" class=\"dataframe\">\n",
       "  <thead>\n",
       "    <tr style=\"text-align: right;\">\n",
       "      <th></th>\n",
       "      <th>Total Spending</th>\n",
       "    </tr>\n",
       "    <tr>\n",
       "      <th>Channel</th>\n",
       "      <th></th>\n",
       "    </tr>\n",
       "  </thead>\n",
       "  <tbody>\n",
       "    <tr>\n",
       "      <th>Hotel</th>\n",
       "      <td>7999569</td>\n",
       "    </tr>\n",
       "    <tr>\n",
       "      <th>Retail</th>\n",
       "      <td>6619931</td>\n",
       "    </tr>\n",
       "  </tbody>\n",
       "</table>\n",
       "</div>"
      ],
      "text/plain": [
       "         Total Spending\n",
       "Channel                \n",
       "Hotel           7999569\n",
       "Retail          6619931"
      ]
     },
     "execution_count": 103,
     "metadata": {},
     "output_type": "execute_result"
    }
   ],
   "source": [
    "pd.DataFrame(channeldf)"
   ]
  },
  {
   "cell_type": "code",
   "execution_count": 104,
   "id": "f5adc6ec",
   "metadata": {},
   "outputs": [
    {
     "data": {
      "image/png": "[encoded data removed]",
      "text/plain": [
       "<Figure size 432x288 with 1 Axes>"
      ]
     },
     "metadata": {
      "needs_background": "light"
     },
     "output_type": "display_data"
    }
   ],
   "source": [
    "x=['Hotel','Retail']\n",
    "y=[7999569,6619931]\n",
    "plt.bar(x,y);"
   ]
  },
  {
   "cell_type": "markdown",
   "id": "7945144e",
   "metadata": {},
   "source": [
    "Hence from above information we can say that Other is the highest sepending Region and Oporto is the lowest spending region."
   ]
  },
  {
   "cell_type": "code",
   "execution_count": 105,
   "id": "a1a46930",
   "metadata": {},
   "outputs": [
    {
     "name": "stdout",
     "output_type": "stream",
     "text": [
      "Channel\n",
      "Hotel     7999569\n",
      "Retail    6619931\n",
      "Name: Total Spending, dtype: int64\n"
     ]
    }
   ],
   "source": [
    "channeldf = wholesalespendingdf.groupby('Channel')['Total Spending'].sum()\n",
    "print(channeldf)"
   ]
  },
  {
   "cell_type": "markdown",
   "id": "b9c08cd8",
   "metadata": {},
   "source": [
    "Hence from above information we can say that Hotel is the highest sepending Channel and Retail is the lowest spending Channel."
   ]
  },
  {
   "cell_type": "markdown",
   "id": "36739be6",
   "metadata": {},
   "source": [
    "Q 1.2 . There are 6 different varieties of items that are considered. Describe and comment/explain all the varieties across Region and Channel? Provide a detailed justification for your answer."
   ]
  },
  {
   "cell_type": "markdown",
   "id": "e8c8bb06",
   "metadata": {},
   "source": [
    "For Fresh Products"
   ]
  },
  {
   "cell_type": "code",
   "execution_count": 106,
   "id": "d292359d",
   "metadata": {},
   "outputs": [
    {
     "data": {
      "image/png": "[encoded data removed]",
      "text/plain": [
       "<Figure size 360x360 with 1 Axes>"
      ]
     },
     "metadata": {
      "needs_background": "light"
     },
     "output_type": "display_data"
    }
   ],
   "source": [
    "sns.catplot(x=\"Region\", y=\"Fresh\", kind=\"bar\", ci=None, data=wholesaledf,)\n",
    "plt.title('Item - Fresh');"
   ]
  },
  {
   "cell_type": "code",
   "execution_count": 107,
   "id": "e57d28b2",
   "metadata": {},
   "outputs": [
    {
     "data": {
      "image/png": "[encoded data removed]",
      "text/plain": [
       "<Figure size 360x360 with 1 Axes>"
      ]
     },
     "metadata": {
      "needs_background": "light"
     },
     "output_type": "display_data"
    }
   ],
   "source": [
    "sns.catplot(x=\"Channel\", y=\"Fresh\", kind=\"bar\", ci=None, data=wholesaledf)\n",
    "plt.title('Item - Fresh');"
   ]
  },
  {
   "cell_type": "code",
   "execution_count": 108,
   "id": "d5615e0e",
   "metadata": {},
   "outputs": [
    {
     "data": {
      "image/png": "[encoded data removed]",
      "text/plain": [
       "<Figure size 433.35x360 with 1 Axes>"
      ]
     },
     "metadata": {
      "needs_background": "light"
     },
     "output_type": "display_data"
    }
   ],
   "source": [
    "sns.catplot(x=\"Channel\", y=\"Fresh\", hue =\"Region\", kind=\"bar\", ci=None, data=wholesaledf,)\n",
    "plt.title('Item - Fresh');"
   ]
  },
  {
   "cell_type": "code",
   "execution_count": 109,
   "id": "14f2010c",
   "metadata": {},
   "outputs": [
    {
     "data": {
      "image/png": "[encoded data removed]",
      "text/plain": [
       "<Figure size 427.975x360 with 1 Axes>"
      ]
     },
     "metadata": {
      "needs_background": "light"
     },
     "output_type": "display_data"
    }
   ],
   "source": [
    "sns.catplot(x=\"Region\", y=\"Fresh\", hue =\"Channel\", kind=\"bar\", ci=None, data=wholesaledf,)\n",
    "plt.title('Item - Fresh');"
   ]
  },
  {
   "cell_type": "markdown",
   "id": "0e2a2e6c",
   "metadata": {},
   "source": [
    "For Milk Product"
   ]
  },
  {
   "cell_type": "code",
   "execution_count": 110,
   "id": "49464947",
   "metadata": {},
   "outputs": [
    {
     "data": {
      "text/plain": [
       "Text(0.5, 1.0, 'Product - Milk')"
      ]
     },
     "execution_count": 110,
     "metadata": {},
     "output_type": "execute_result"
    },
    {
     "data": {
      "image/png": "[encoded data removed]",
      "text/plain": [
       "<Figure size 360x360 with 1 Axes>"
      ]
     },
     "metadata": {
      "needs_background": "light"
     },
     "output_type": "display_data"
    }
   ],
   "source": [
    "sns.catplot(x=\"Channel\", y=\"Milk\", kind=\"bar\", ci=None, data=wholesaledf)\n",
    "plt.title('Product - Milk')"
   ]
  },
  {
   "cell_type": "code",
   "execution_count": 111,
   "id": "4a90de05",
   "metadata": {},
   "outputs": [
    {
     "data": {
      "text/plain": [
       "Text(0.5, 1.0, 'Product - Milk')"
      ]
     },
     "execution_count": 111,
     "metadata": {},
     "output_type": "execute_result"
    },
    {
     "data": {
      "image/png": "[encoded data removed]",
      "text/plain": [
       "<Figure size 433.35x360 with 1 Axes>"
      ]
     },
     "metadata": {
      "needs_background": "light"
     },
     "output_type": "display_data"
    }
   ],
   "source": [
    "sns.catplot(x=\"Channel\", y=\"Milk\", hue =\"Region\", kind=\"bar\", ci=None, data=wholesaledf)\n",
    "plt.title('Product - Milk')"
   ]
  },
  {
   "cell_type": "code",
   "execution_count": 112,
   "id": "844cb4e7",
   "metadata": {},
   "outputs": [
    {
     "data": {
      "text/plain": [
       "Text(0.5, 1.0, 'Product - Milk')"
      ]
     },
     "execution_count": 112,
     "metadata": {},
     "output_type": "execute_result"
    },
    {
     "data": {
      "image/png": "[encoded data removed]",
      "text/plain": [
       "<Figure size 360x360 with 1 Axes>"
      ]
     },
     "metadata": {
      "needs_background": "light"
     },
     "output_type": "display_data"
    }
   ],
   "source": [
    "sns.catplot(x=\"Region\", y=\"Milk\", kind=\"bar\", ci=None, data=wholesaledf)\n",
    "plt.title('Product - Milk')"
   ]
  },
  {
   "cell_type": "code",
   "execution_count": 113,
   "id": "d940ab0e",
   "metadata": {},
   "outputs": [
    {
     "data": {
      "text/plain": [
       "Text(0.5, 1.0, 'Product - Milk')"
      ]
     },
     "execution_count": 113,
     "metadata": {},
     "output_type": "execute_result"
    },
    {
     "data": {
      "image/png": "[encoded data removed]",
      "text/plain": [
       "<Figure size 427.975x360 with 1 Axes>"
      ]
     },
     "metadata": {
      "needs_background": "light"
     },
     "output_type": "display_data"
    }
   ],
   "source": [
    "sns.catplot(x=\"Region\", y=\"Milk\", hue='Channel', kind=\"bar\", ci=None, data=wholesaledf)\n",
    "plt.title('Product - Milk')"
   ]
  },
  {
   "cell_type": "raw",
   "id": "def2b996",
   "metadata": {},
   "source": [
    "For Grocery"
   ]
  },
  {
   "cell_type": "code",
   "execution_count": 114,
   "id": "6080e5d9",
   "metadata": {},
   "outputs": [
    {
     "data": {
      "text/plain": [
       "Text(0.5, 1.0, 'Product - Grocery')"
      ]
     },
     "execution_count": 114,
     "metadata": {},
     "output_type": "execute_result"
    },
    {
     "data": {
      "image/png": "[encoded data removed]",
      "text/plain": [
       "<Figure size 360x360 with 1 Axes>"
      ]
     },
     "metadata": {
      "needs_background": "light"
     },
     "output_type": "display_data"
    }
   ],
   "source": [
    "sns.catplot(x=\"Channel\", y=\"Grocery\", kind=\"bar\", ci=None, data=wholesaledf)\n",
    "plt.title('Product - Grocery')"
   ]
  },
  {
   "cell_type": "code",
   "execution_count": 115,
   "id": "4e7e354c",
   "metadata": {},
   "outputs": [
    {
     "data": {
      "text/plain": [
       "Text(0.5, 1.0, 'Item - Grocery')"
      ]
     },
     "execution_count": 115,
     "metadata": {},
     "output_type": "execute_result"
    },
    {
     "data": {
      "image/png": "[encoded data removed]",
      "text/plain": [
       "<Figure size 433.35x360 with 1 Axes>"
      ]
     },
     "metadata": {
      "needs_background": "light"
     },
     "output_type": "display_data"
    }
   ],
   "source": [
    "sns.catplot(x=\"Channel\", y=\"Grocery\", hue =\"Region\", kind=\"bar\", ci=None, data=wholesaledf)\n",
    "plt.title('Item - Grocery')"
   ]
  },
  {
   "cell_type": "code",
   "execution_count": 116,
   "id": "cc0c7ca7",
   "metadata": {},
   "outputs": [
    {
     "data": {
      "text/plain": [
       "Text(0.5, 1.0, 'Product - Grocery')"
      ]
     },
     "execution_count": 116,
     "metadata": {},
     "output_type": "execute_result"
    },
    {
     "data": {
      "image/png": "[encoded data removed]",
      "text/plain": [
       "<Figure size 360x360 with 1 Axes>"
      ]
     },
     "metadata": {
      "needs_background": "light"
     },
     "output_type": "display_data"
    }
   ],
   "source": [
    "sns.catplot(x=\"Region\", y=\"Grocery\", kind=\"bar\", ci=None, data=wholesaledf)\n",
    "plt.title('Product - Grocery')"
   ]
  },
  {
   "cell_type": "code",
   "execution_count": 117,
   "id": "fff4b520",
   "metadata": {},
   "outputs": [
    {
     "data": {
      "text/plain": [
       "Text(0.5, 1.0, 'Item - Grocery')"
      ]
     },
     "execution_count": 117,
     "metadata": {},
     "output_type": "execute_result"
    },
    {
     "data": {
      "image/png": "[encoded data removed]",
      "text/plain": [
       "<Figure size 427.975x360 with 1 Axes>"
      ]
     },
     "metadata": {
      "needs_background": "light"
     },
     "output_type": "display_data"
    }
   ],
   "source": [
    "sns.catplot(x=\"Region\", y=\"Grocery\", hue='Channel', kind=\"bar\", ci=None, data=wholesaledf)\n",
    "plt.title('Item - Grocery')"
   ]
  },
  {
   "cell_type": "markdown",
   "id": "7f106a78",
   "metadata": {},
   "source": [
    "For Frozen"
   ]
  },
  {
   "cell_type": "code",
   "execution_count": 118,
   "id": "9d7d9baa",
   "metadata": {},
   "outputs": [
    {
     "data": {
      "text/plain": [
       "Text(0.5, 1.0, 'Item - Frozen')"
      ]
     },
     "execution_count": 118,
     "metadata": {},
     "output_type": "execute_result"
    },
    {
     "data": {
      "image/png": "[encoded data removed]",
      "text/plain": [
       "<Figure size 360x360 with 1 Axes>"
      ]
     },
     "metadata": {
      "needs_background": "light"
     },
     "output_type": "display_data"
    }
   ],
   "source": [
    "sns.catplot(x=\"Channel\", y=\"Frozen\", kind=\"bar\", ci=None, data=wholesaledf)\n",
    "plt.title('Item - Frozen')"
   ]
  },
  {
   "cell_type": "code",
   "execution_count": 119,
   "id": "9dbb0869",
   "metadata": {},
   "outputs": [
    {
     "data": {
      "text/plain": [
       "Text(0.5, 1.0, 'Item - Frozen')"
      ]
     },
     "execution_count": 119,
     "metadata": {},
     "output_type": "execute_result"
    },
    {
     "data": {
      "image/png": "[encoded data removed]",
      "text/plain": [
       "<Figure size 433.35x360 with 1 Axes>"
      ]
     },
     "metadata": {
      "needs_background": "light"
     },
     "output_type": "display_data"
    }
   ],
   "source": [
    "sns.catplot(x=\"Channel\", y=\"Frozen\", hue =\"Region\", kind=\"bar\", ci=None, data=wholesaledf)\n",
    "plt.title('Item - Frozen')"
   ]
  },
  {
   "cell_type": "code",
   "execution_count": 120,
   "id": "ca467c72",
   "metadata": {},
   "outputs": [
    {
     "data": {
      "text/plain": [
       "Text(0.5, 1.0, 'Item - Frozen')"
      ]
     },
     "execution_count": 120,
     "metadata": {},
     "output_type": "execute_result"
    },
    {
     "data": {
      "image/png": "[encoded data removed]",
      "text/plain": [
       "<Figure size 360x360 with 1 Axes>"
      ]
     },
     "metadata": {
      "needs_background": "light"
     },
     "output_type": "display_data"
    }
   ],
   "source": [
    "sns.catplot(x=\"Region\", y=\"Frozen\", kind=\"bar\", ci=None, data=wholesaledf)\n",
    "plt.title('Item - Frozen')"
   ]
  },
  {
   "cell_type": "code",
   "execution_count": 121,
   "id": "bcda163d",
   "metadata": {},
   "outputs": [
    {
     "data": {
      "text/plain": [
       "Text(0.5, 1.0, 'Item - Frozen')"
      ]
     },
     "execution_count": 121,
     "metadata": {},
     "output_type": "execute_result"
    },
    {
     "data": {
      "image/png": "[encoded data removed]",
      "text/plain": [
       "<Figure size 427.975x360 with 1 Axes>"
      ]
     },
     "metadata": {
      "needs_background": "light"
     },
     "output_type": "display_data"
    }
   ],
   "source": [
    "sns.catplot(x=\"Region\", y=\"Frozen\", hue='Channel', kind=\"bar\", ci=None, data=wholesaledf)\n",
    "plt.title('Item - Frozen')"
   ]
  },
  {
   "cell_type": "markdown",
   "id": "4ec530e7",
   "metadata": {},
   "source": [
    "For Detergents & Paper"
   ]
  },
  {
   "cell_type": "code",
   "execution_count": 122,
   "id": "6d416b9a",
   "metadata": {},
   "outputs": [
    {
     "data": {
      "text/plain": [
       "Text(0.5, 1.0, 'Item - Detergents_Paper')"
      ]
     },
     "execution_count": 122,
     "metadata": {},
     "output_type": "execute_result"
    },
    {
     "data": {
      "image/png": "[encoded data removed]",
      "text/plain": [
       "<Figure size 360x360 with 1 Axes>"
      ]
     },
     "metadata": {
      "needs_background": "light"
     },
     "output_type": "display_data"
    }
   ],
   "source": [
    "sns.catplot(x=\"Channel\", y=\"Detergents_Paper\", kind=\"bar\", ci=None, data=wholesaledf)\n",
    "plt.title('Item - Detergents_Paper')"
   ]
  },
  {
   "cell_type": "code",
   "execution_count": 123,
   "id": "9c68e5c5",
   "metadata": {},
   "outputs": [
    {
     "data": {
      "text/plain": [
       "Text(0.5, 1.0, 'Item - Detergents_Paper')"
      ]
     },
     "execution_count": 123,
     "metadata": {},
     "output_type": "execute_result"
    },
    {
     "data": {
      "image/png": "[encoded data removed]",
      "text/plain": [
       "<Figure size 433.35x360 with 1 Axes>"
      ]
     },
     "metadata": {
      "needs_background": "light"
     },
     "output_type": "display_data"
    }
   ],
   "source": [
    "sns.catplot(x=\"Channel\", y=\"Detergents_Paper\", hue =\"Region\", kind=\"bar\", ci=None, data=wholesaledf)\n",
    "plt.title('Item - Detergents_Paper')"
   ]
  },
  {
   "cell_type": "code",
   "execution_count": 124,
   "id": "c0f57599",
   "metadata": {},
   "outputs": [
    {
     "data": {
      "text/plain": [
       "Text(0.5, 1.0, 'Item - Detergents_Paper')"
      ]
     },
     "execution_count": 124,
     "metadata": {},
     "output_type": "execute_result"
    },
    {
     "data": {
      "image/png": "[encoded data removed]",
      "text/plain": [
       "<Figure size 360x360 with 1 Axes>"
      ]
     },
     "metadata": {
      "needs_background": "light"
     },
     "output_type": "display_data"
    }
   ],
   "source": [
    "sns.catplot(x=\"Region\", y=\"Detergents_Paper\", kind=\"bar\", ci=None, data=wholesaledf)\n",
    "plt.title('Item - Detergents_Paper')"
   ]
  },
  {
   "cell_type": "code",
   "execution_count": 125,
   "id": "73809578",
   "metadata": {},
   "outputs": [
    {
     "data": {
      "text/plain": [
       "Text(0.5, 1.0, 'Item - Detergents_Paper')"
      ]
     },
     "execution_count": 125,
     "metadata": {},
     "output_type": "execute_result"
    },
    {
     "data": {
      "image/png": "[encoded data removed]",
      "text/plain": [
       "<Figure size 427.975x360 with 1 Axes>"
      ]
     },
     "metadata": {
      "needs_background": "light"
     },
     "output_type": "display_data"
    }
   ],
   "source": [
    "sns.catplot(x=\"Region\", y=\"Detergents_Paper\", hue='Channel', kind=\"bar\", ci=None, data=wholesaledf)\n",
    "plt.title('Item - Detergents_Paper')"
   ]
  },
  {
   "cell_type": "markdown",
   "id": "c6062d4d",
   "metadata": {},
   "source": [
    "For Delicatessen"
   ]
  },
  {
   "cell_type": "code",
   "execution_count": 126,
   "id": "2e1d88d5",
   "metadata": {},
   "outputs": [
    {
     "data": {
      "text/plain": [
       "Text(0.5, 1.0, 'Item - Delicatessen')"
      ]
     },
     "execution_count": 126,
     "metadata": {},
     "output_type": "execute_result"
    },
    {
     "data": {
      "image/png": "[encoded data removed]",
      "text/plain": [
       "<Figure size 360x360 with 1 Axes>"
      ]
     },
     "metadata": {
      "needs_background": "light"
     },
     "output_type": "display_data"
    }
   ],
   "source": [
    "sns.catplot(x=\"Channel\", y=\"Delicatessen\", kind=\"bar\", ci=None, data=wholesaledf)\n",
    "plt.title('Item - Delicatessen')"
   ]
  },
  {
   "cell_type": "code",
   "execution_count": 127,
   "id": "04b995d0",
   "metadata": {},
   "outputs": [
    {
     "data": {
      "text/plain": [
       "Text(0.5, 1.0, 'Delicatessen')"
      ]
     },
     "execution_count": 127,
     "metadata": {},
     "output_type": "execute_result"
    },
    {
     "data": {
      "image/png": "[encoded data removed]",
      "text/plain": [
       "<Figure size 433.35x360 with 1 Axes>"
      ]
     },
     "metadata": {
      "needs_background": "light"
     },
     "output_type": "display_data"
    }
   ],
   "source": [
    "sns.catplot(x=\"Channel\", y=\"Delicatessen\", hue =\"Region\", kind=\"bar\", ci=None, data=wholesaledf)\n",
    "plt.title('Delicatessen')"
   ]
  },
  {
   "cell_type": "code",
   "execution_count": 128,
   "id": "e6bd3a77",
   "metadata": {},
   "outputs": [
    {
     "data": {
      "text/plain": [
       "Text(0.5, 1.0, 'Item - Delicatessen')"
      ]
     },
     "execution_count": 128,
     "metadata": {},
     "output_type": "execute_result"
    },
    {
     "data": {
      "image/png": "[encoded data removed]",
      "text/plain": [
       "<Figure size 360x360 with 1 Axes>"
      ]
     },
     "metadata": {
      "needs_background": "light"
     },
     "output_type": "display_data"
    }
   ],
   "source": [
    "sns.catplot(x=\"Region\", y=\"Delicatessen\", kind=\"bar\", ci=None, data=wholesaledf)\n",
    "plt.title('Item - Delicatessen')"
   ]
  },
  {
   "cell_type": "code",
   "execution_count": 129,
   "id": "ad27e31d",
   "metadata": {},
   "outputs": [
    {
     "data": {
      "text/plain": [
       "Text(0.5, 1.0, 'Item - Delicatessen')"
      ]
     },
     "execution_count": 129,
     "metadata": {},
     "output_type": "execute_result"
    },
    {
     "data": {
      "image/png": "[encoded data removed]",
      "text/plain": [
       "<Figure size 427.975x360 with 1 Axes>"
      ]
     },
     "metadata": {
      "needs_background": "light"
     },
     "output_type": "display_data"
    }
   ],
   "source": [
    "sns.catplot(x=\"Region\", y=\"Delicatessen\", hue='Channel', kind=\"bar\", ci=None, data=wholesaledf)\n",
    "plt.title('Item - Delicatessen')"
   ]
  },
  {
   "cell_type": "markdown",
   "id": "3f8edf5d",
   "metadata": {},
   "source": [
    "Q. On the basis of a descriptive measure of variability, which item shows the most inconsistent behaviour? Which items show the least inconsistent behaviour?"
   ]
  },
  {
   "cell_type": "code",
   "execution_count": 130,
   "id": "e81ed96e",
   "metadata": {},
   "outputs": [
    {
     "data": {
      "text/html": [
       "<div>\n",
       "<style scoped>\n",
       "    .dataframe tbody tr th:only-of-type {\n",
       "        vertical-align: middle;\n",
       "    }\n",
       "\n",
       "    .dataframe tbody tr th {\n",
       "        vertical-align: top;\n",
       "    }\n",
       "\n",
       "    .dataframe thead th {\n",
       "        text-align: right;\n",
       "    }\n",
       "</style>\n",
       "<table border=\"1\" class=\"dataframe\">\n",
       "  <thead>\n",
       "    <tr style=\"text-align: right;\">\n",
       "      <th></th>\n",
       "      <th>count</th>\n",
       "      <th>unique</th>\n",
       "      <th>top</th>\n",
       "      <th>freq</th>\n",
       "      <th>mean</th>\n",
       "      <th>std</th>\n",
       "      <th>min</th>\n",
       "      <th>25%</th>\n",
       "      <th>50%</th>\n",
       "      <th>75%</th>\n",
       "      <th>max</th>\n",
       "    </tr>\n",
       "  </thead>\n",
       "  <tbody>\n",
       "    <tr>\n",
       "      <th>Channel</th>\n",
       "      <td>440</td>\n",
       "      <td>2</td>\n",
       "      <td>Hotel</td>\n",
       "      <td>298</td>\n",
       "      <td>NaN</td>\n",
       "      <td>NaN</td>\n",
       "      <td>NaN</td>\n",
       "      <td>NaN</td>\n",
       "      <td>NaN</td>\n",
       "      <td>NaN</td>\n",
       "      <td>NaN</td>\n",
       "    </tr>\n",
       "    <tr>\n",
       "      <th>Region</th>\n",
       "      <td>440</td>\n",
       "      <td>3</td>\n",
       "      <td>Other</td>\n",
       "      <td>316</td>\n",
       "      <td>NaN</td>\n",
       "      <td>NaN</td>\n",
       "      <td>NaN</td>\n",
       "      <td>NaN</td>\n",
       "      <td>NaN</td>\n",
       "      <td>NaN</td>\n",
       "      <td>NaN</td>\n",
       "    </tr>\n",
       "    <tr>\n",
       "      <th>Fresh</th>\n",
       "      <td>440.0</td>\n",
       "      <td>NaN</td>\n",
       "      <td>NaN</td>\n",
       "      <td>NaN</td>\n",
       "      <td>12000.297727</td>\n",
       "      <td>12647.328865</td>\n",
       "      <td>3.0</td>\n",
       "      <td>3127.75</td>\n",
       "      <td>8504.0</td>\n",
       "      <td>16933.75</td>\n",
       "      <td>112151.0</td>\n",
       "    </tr>\n",
       "    <tr>\n",
       "      <th>Milk</th>\n",
       "      <td>440.0</td>\n",
       "      <td>NaN</td>\n",
       "      <td>NaN</td>\n",
       "      <td>NaN</td>\n",
       "      <td>5796.265909</td>\n",
       "      <td>7380.377175</td>\n",
       "      <td>55.0</td>\n",
       "      <td>1533.0</td>\n",
       "      <td>3627.0</td>\n",
       "      <td>7190.25</td>\n",
       "      <td>73498.0</td>\n",
       "    </tr>\n",
       "    <tr>\n",
       "      <th>Grocery</th>\n",
       "      <td>440.0</td>\n",
       "      <td>NaN</td>\n",
       "      <td>NaN</td>\n",
       "      <td>NaN</td>\n",
       "      <td>7951.277273</td>\n",
       "      <td>9503.162829</td>\n",
       "      <td>3.0</td>\n",
       "      <td>2153.0</td>\n",
       "      <td>4755.5</td>\n",
       "      <td>10655.75</td>\n",
       "      <td>92780.0</td>\n",
       "    </tr>\n",
       "    <tr>\n",
       "      <th>Frozen</th>\n",
       "      <td>440.0</td>\n",
       "      <td>NaN</td>\n",
       "      <td>NaN</td>\n",
       "      <td>NaN</td>\n",
       "      <td>3071.931818</td>\n",
       "      <td>4854.673333</td>\n",
       "      <td>25.0</td>\n",
       "      <td>742.25</td>\n",
       "      <td>1526.0</td>\n",
       "      <td>3554.25</td>\n",
       "      <td>60869.0</td>\n",
       "    </tr>\n",
       "    <tr>\n",
       "      <th>Detergents_Paper</th>\n",
       "      <td>440.0</td>\n",
       "      <td>NaN</td>\n",
       "      <td>NaN</td>\n",
       "      <td>NaN</td>\n",
       "      <td>2881.493182</td>\n",
       "      <td>4767.854448</td>\n",
       "      <td>3.0</td>\n",
       "      <td>256.75</td>\n",
       "      <td>816.5</td>\n",
       "      <td>3922.0</td>\n",
       "      <td>40827.0</td>\n",
       "    </tr>\n",
       "    <tr>\n",
       "      <th>Delicatessen</th>\n",
       "      <td>440.0</td>\n",
       "      <td>NaN</td>\n",
       "      <td>NaN</td>\n",
       "      <td>NaN</td>\n",
       "      <td>1524.870455</td>\n",
       "      <td>2820.105937</td>\n",
       "      <td>3.0</td>\n",
       "      <td>408.25</td>\n",
       "      <td>965.5</td>\n",
       "      <td>1820.25</td>\n",
       "      <td>47943.0</td>\n",
       "    </tr>\n",
       "    <tr>\n",
       "      <th>Total Spending</th>\n",
       "      <td>440.0</td>\n",
       "      <td>NaN</td>\n",
       "      <td>NaN</td>\n",
       "      <td>NaN</td>\n",
       "      <td>33226.136364</td>\n",
       "      <td>26356.30173</td>\n",
       "      <td>904.0</td>\n",
       "      <td>17448.75</td>\n",
       "      <td>27492.0</td>\n",
       "      <td>41307.5</td>\n",
       "      <td>199891.0</td>\n",
       "    </tr>\n",
       "  </tbody>\n",
       "</table>\n",
       "</div>"
      ],
      "text/plain": [
       "                  count unique    top freq          mean           std    min  \\\n",
       "Channel             440      2  Hotel  298           NaN           NaN    NaN   \n",
       "Region              440      3  Other  316           NaN           NaN    NaN   \n",
       "Fresh             440.0    NaN    NaN  NaN  12000.297727  12647.328865    3.0   \n",
       "Milk              440.0    NaN    NaN  NaN   5796.265909   7380.377175   55.0   \n",
       "Grocery           440.0    NaN    NaN  NaN   7951.277273   9503.162829    3.0   \n",
       "Frozen            440.0    NaN    NaN  NaN   3071.931818   4854.673333   25.0   \n",
       "Detergents_Paper  440.0    NaN    NaN  NaN   2881.493182   4767.854448    3.0   \n",
       "Delicatessen      440.0    NaN    NaN  NaN   1524.870455   2820.105937    3.0   \n",
       "Total Spending    440.0    NaN    NaN  NaN  33226.136364   26356.30173  904.0   \n",
       "\n",
       "                       25%      50%       75%       max  \n",
       "Channel                NaN      NaN       NaN       NaN  \n",
       "Region                 NaN      NaN       NaN       NaN  \n",
       "Fresh              3127.75   8504.0  16933.75  112151.0  \n",
       "Milk                1533.0   3627.0   7190.25   73498.0  \n",
       "Grocery             2153.0   4755.5  10655.75   92780.0  \n",
       "Frozen              742.25   1526.0   3554.25   60869.0  \n",
       "Detergents_Paper    256.75    816.5    3922.0   40827.0  \n",
       "Delicatessen        408.25    965.5   1820.25   47943.0  \n",
       "Total Spending    17448.75  27492.0   41307.5  199891.0  "
      ]
     },
     "execution_count": 130,
     "metadata": {},
     "output_type": "execute_result"
    }
   ],
   "source": [
    "corr_wholesale=wholesaledf.describe(include='all').T\n",
    "corr_wholesale"
   ]
  },
  {
   "cell_type": "code",
   "execution_count": 131,
   "id": "59d8c378",
   "metadata": {},
   "outputs": [
    {
     "name": "stdout",
     "output_type": "stream",
     "text": [
      "Channel                      NaN\n",
      "Region                       NaN\n",
      "Fresh               12647.328865\n",
      "Milk                 7380.377175\n",
      "Grocery              9503.162829\n",
      "Frozen               4854.673333\n",
      "Detergents_Paper     4767.854448\n",
      "Delicatessen         2820.105937\n",
      "Total Spending       26356.30173\n",
      "Name: std, dtype: object\n"
     ]
    }
   ],
   "source": [
    "print(corr_wholesale['std'])"
   ]
  },
  {
   "cell_type": "markdown",
   "id": "b575fea1",
   "metadata": {},
   "source": [
    "Q. Are there any outliers in the data? Back up your answer with a suitable plot/technique with the help of detailed comments."
   ]
  },
  {
   "cell_type": "code",
   "execution_count": null,
   "id": "025c506d",
   "metadata": {},
   "outputs": [],
   "source": []
  },
  {
   "cell_type": "code",
   "execution_count": 132,
   "id": "483497e3",
   "metadata": {},
   "outputs": [
    {
     "data": {
      "text/plain": [
       "<AxesSubplot:>"
      ]
     },
     "execution_count": 132,
     "metadata": {},
     "output_type": "execute_result"
    },
    {
     "data": {
      "image/png": "[encoded data removed]",
      "text/plain": [
       "<Figure size 1080x576 with 1 Axes>"
      ]
     },
     "metadata": {
      "needs_background": "light"
     },
     "output_type": "display_data"
    }
   ],
   "source": [
    "plt.figure(figsize=(15,8))\n",
    "sns.boxplot(data=wholesaledf, orient=\"h\", palette=\"Set2\")"
   ]
  },
  {
   "cell_type": "code",
   "execution_count": 136,
   "id": "de775886",
   "metadata": {},
   "outputs": [],
   "source": [
    "productdf=wholesaledf.copy()"
   ]
  },
  {
   "cell_type": "code",
   "execution_count": 137,
   "id": "37c55e17",
   "metadata": {},
   "outputs": [
    {
     "data": {
      "text/html": [
       "<div>\n",
       "<style scoped>\n",
       "    .dataframe tbody tr th:only-of-type {\n",
       "        vertical-align: middle;\n",
       "    }\n",
       "\n",
       "    .dataframe tbody tr th {\n",
       "        vertical-align: top;\n",
       "    }\n",
       "\n",
       "    .dataframe thead th {\n",
       "        text-align: right;\n",
       "    }\n",
       "</style>\n",
       "<table border=\"1\" class=\"dataframe\">\n",
       "  <thead>\n",
       "    <tr style=\"text-align: right;\">\n",
       "      <th></th>\n",
       "      <th>Channel</th>\n",
       "      <th>Region</th>\n",
       "      <th>Fresh</th>\n",
       "      <th>Milk</th>\n",
       "      <th>Grocery</th>\n",
       "      <th>Frozen</th>\n",
       "      <th>Detergents_Paper</th>\n",
       "      <th>Delicatessen</th>\n",
       "      <th>Total Spending</th>\n",
       "    </tr>\n",
       "  </thead>\n",
       "  <tbody>\n",
       "    <tr>\n",
       "      <th>0</th>\n",
       "      <td>Retail</td>\n",
       "      <td>Other</td>\n",
       "      <td>12669</td>\n",
       "      <td>9656</td>\n",
       "      <td>7561</td>\n",
       "      <td>214</td>\n",
       "      <td>2674</td>\n",
       "      <td>1338</td>\n",
       "      <td>34112</td>\n",
       "    </tr>\n",
       "    <tr>\n",
       "      <th>1</th>\n",
       "      <td>Retail</td>\n",
       "      <td>Other</td>\n",
       "      <td>7057</td>\n",
       "      <td>9810</td>\n",
       "      <td>9568</td>\n",
       "      <td>1762</td>\n",
       "      <td>3293</td>\n",
       "      <td>1776</td>\n",
       "      <td>33266</td>\n",
       "    </tr>\n",
       "    <tr>\n",
       "      <th>2</th>\n",
       "      <td>Retail</td>\n",
       "      <td>Other</td>\n",
       "      <td>6353</td>\n",
       "      <td>8808</td>\n",
       "      <td>7684</td>\n",
       "      <td>2405</td>\n",
       "      <td>3516</td>\n",
       "      <td>7844</td>\n",
       "      <td>36610</td>\n",
       "    </tr>\n",
       "    <tr>\n",
       "      <th>3</th>\n",
       "      <td>Hotel</td>\n",
       "      <td>Other</td>\n",
       "      <td>13265</td>\n",
       "      <td>1196</td>\n",
       "      <td>4221</td>\n",
       "      <td>6404</td>\n",
       "      <td>507</td>\n",
       "      <td>1788</td>\n",
       "      <td>27381</td>\n",
       "    </tr>\n",
       "    <tr>\n",
       "      <th>4</th>\n",
       "      <td>Retail</td>\n",
       "      <td>Other</td>\n",
       "      <td>22615</td>\n",
       "      <td>5410</td>\n",
       "      <td>7198</td>\n",
       "      <td>3915</td>\n",
       "      <td>1777</td>\n",
       "      <td>5185</td>\n",
       "      <td>46100</td>\n",
       "    </tr>\n",
       "    <tr>\n",
       "      <th>...</th>\n",
       "      <td>...</td>\n",
       "      <td>...</td>\n",
       "      <td>...</td>\n",
       "      <td>...</td>\n",
       "      <td>...</td>\n",
       "      <td>...</td>\n",
       "      <td>...</td>\n",
       "      <td>...</td>\n",
       "      <td>...</td>\n",
       "    </tr>\n",
       "    <tr>\n",
       "      <th>435</th>\n",
       "      <td>Hotel</td>\n",
       "      <td>Other</td>\n",
       "      <td>29703</td>\n",
       "      <td>12051</td>\n",
       "      <td>16027</td>\n",
       "      <td>13135</td>\n",
       "      <td>182</td>\n",
       "      <td>2204</td>\n",
       "      <td>73302</td>\n",
       "    </tr>\n",
       "    <tr>\n",
       "      <th>436</th>\n",
       "      <td>Hotel</td>\n",
       "      <td>Other</td>\n",
       "      <td>39228</td>\n",
       "      <td>1431</td>\n",
       "      <td>764</td>\n",
       "      <td>4510</td>\n",
       "      <td>93</td>\n",
       "      <td>2346</td>\n",
       "      <td>48372</td>\n",
       "    </tr>\n",
       "    <tr>\n",
       "      <th>437</th>\n",
       "      <td>Retail</td>\n",
       "      <td>Other</td>\n",
       "      <td>14531</td>\n",
       "      <td>15488</td>\n",
       "      <td>30243</td>\n",
       "      <td>437</td>\n",
       "      <td>14841</td>\n",
       "      <td>1867</td>\n",
       "      <td>77407</td>\n",
       "    </tr>\n",
       "    <tr>\n",
       "      <th>438</th>\n",
       "      <td>Hotel</td>\n",
       "      <td>Other</td>\n",
       "      <td>10290</td>\n",
       "      <td>1981</td>\n",
       "      <td>2232</td>\n",
       "      <td>1038</td>\n",
       "      <td>168</td>\n",
       "      <td>2125</td>\n",
       "      <td>17834</td>\n",
       "    </tr>\n",
       "    <tr>\n",
       "      <th>439</th>\n",
       "      <td>Hotel</td>\n",
       "      <td>Other</td>\n",
       "      <td>2787</td>\n",
       "      <td>1698</td>\n",
       "      <td>2510</td>\n",
       "      <td>65</td>\n",
       "      <td>477</td>\n",
       "      <td>52</td>\n",
       "      <td>7589</td>\n",
       "    </tr>\n",
       "  </tbody>\n",
       "</table>\n",
       "<p>440 rows × 9 columns</p>\n",
       "</div>"
      ],
      "text/plain": [
       "    Channel Region  Fresh   Milk  Grocery  Frozen  Detergents_Paper  \\\n",
       "0    Retail  Other  12669   9656     7561     214              2674   \n",
       "1    Retail  Other   7057   9810     9568    1762              3293   \n",
       "2    Retail  Other   6353   8808     7684    2405              3516   \n",
       "3     Hotel  Other  13265   1196     4221    6404               507   \n",
       "4    Retail  Other  22615   5410     7198    3915              1777   \n",
       "..      ...    ...    ...    ...      ...     ...               ...   \n",
       "435   Hotel  Other  29703  12051    16027   13135               182   \n",
       "436   Hotel  Other  39228   1431      764    4510                93   \n",
       "437  Retail  Other  14531  15488    30243     437             14841   \n",
       "438   Hotel  Other  10290   1981     2232    1038               168   \n",
       "439   Hotel  Other   2787   1698     2510      65               477   \n",
       "\n",
       "     Delicatessen  Total Spending  \n",
       "0            1338           34112  \n",
       "1            1776           33266  \n",
       "2            7844           36610  \n",
       "3            1788           27381  \n",
       "4            5185           46100  \n",
       "..            ...             ...  \n",
       "435          2204           73302  \n",
       "436          2346           48372  \n",
       "437          1867           77407  \n",
       "438          2125           17834  \n",
       "439            52            7589  \n",
       "\n",
       "[440 rows x 9 columns]"
      ]
     },
     "execution_count": 137,
     "metadata": {},
     "output_type": "execute_result"
    }
   ],
   "source": [
    "productdf"
   ]
  },
  {
   "cell_type": "code",
   "execution_count": 144,
   "id": "6a78a857",
   "metadata": {},
   "outputs": [
    {
     "data": {
      "text/html": [
       "<div>\n",
       "<style scoped>\n",
       "    .dataframe tbody tr th:only-of-type {\n",
       "        vertical-align: middle;\n",
       "    }\n",
       "\n",
       "    .dataframe tbody tr th {\n",
       "        vertical-align: top;\n",
       "    }\n",
       "\n",
       "    .dataframe thead th {\n",
       "        text-align: right;\n",
       "    }\n",
       "</style>\n",
       "<table border=\"1\" class=\"dataframe\">\n",
       "  <thead>\n",
       "    <tr style=\"text-align: right;\">\n",
       "      <th></th>\n",
       "      <th>Region</th>\n",
       "      <th>Fresh</th>\n",
       "      <th>Milk</th>\n",
       "      <th>Grocery</th>\n",
       "      <th>Frozen</th>\n",
       "      <th>Detergents_Paper</th>\n",
       "      <th>Delicatessen</th>\n",
       "      <th>Total Spending</th>\n",
       "    </tr>\n",
       "  </thead>\n",
       "  <tbody>\n",
       "    <tr>\n",
       "      <th>0</th>\n",
       "      <td>Other</td>\n",
       "      <td>12669</td>\n",
       "      <td>9656</td>\n",
       "      <td>7561</td>\n",
       "      <td>214</td>\n",
       "      <td>2674</td>\n",
       "      <td>1338</td>\n",
       "      <td>34112</td>\n",
       "    </tr>\n",
       "    <tr>\n",
       "      <th>1</th>\n",
       "      <td>Other</td>\n",
       "      <td>7057</td>\n",
       "      <td>9810</td>\n",
       "      <td>9568</td>\n",
       "      <td>1762</td>\n",
       "      <td>3293</td>\n",
       "      <td>1776</td>\n",
       "      <td>33266</td>\n",
       "    </tr>\n",
       "    <tr>\n",
       "      <th>2</th>\n",
       "      <td>Other</td>\n",
       "      <td>6353</td>\n",
       "      <td>8808</td>\n",
       "      <td>7684</td>\n",
       "      <td>2405</td>\n",
       "      <td>3516</td>\n",
       "      <td>7844</td>\n",
       "      <td>36610</td>\n",
       "    </tr>\n",
       "    <tr>\n",
       "      <th>3</th>\n",
       "      <td>Other</td>\n",
       "      <td>13265</td>\n",
       "      <td>1196</td>\n",
       "      <td>4221</td>\n",
       "      <td>6404</td>\n",
       "      <td>507</td>\n",
       "      <td>1788</td>\n",
       "      <td>27381</td>\n",
       "    </tr>\n",
       "    <tr>\n",
       "      <th>4</th>\n",
       "      <td>Other</td>\n",
       "      <td>22615</td>\n",
       "      <td>5410</td>\n",
       "      <td>7198</td>\n",
       "      <td>3915</td>\n",
       "      <td>1777</td>\n",
       "      <td>5185</td>\n",
       "      <td>46100</td>\n",
       "    </tr>\n",
       "    <tr>\n",
       "      <th>...</th>\n",
       "      <td>...</td>\n",
       "      <td>...</td>\n",
       "      <td>...</td>\n",
       "      <td>...</td>\n",
       "      <td>...</td>\n",
       "      <td>...</td>\n",
       "      <td>...</td>\n",
       "      <td>...</td>\n",
       "    </tr>\n",
       "    <tr>\n",
       "      <th>435</th>\n",
       "      <td>Other</td>\n",
       "      <td>29703</td>\n",
       "      <td>12051</td>\n",
       "      <td>16027</td>\n",
       "      <td>13135</td>\n",
       "      <td>182</td>\n",
       "      <td>2204</td>\n",
       "      <td>73302</td>\n",
       "    </tr>\n",
       "    <tr>\n",
       "      <th>436</th>\n",
       "      <td>Other</td>\n",
       "      <td>39228</td>\n",
       "      <td>1431</td>\n",
       "      <td>764</td>\n",
       "      <td>4510</td>\n",
       "      <td>93</td>\n",
       "      <td>2346</td>\n",
       "      <td>48372</td>\n",
       "    </tr>\n",
       "    <tr>\n",
       "      <th>437</th>\n",
       "      <td>Other</td>\n",
       "      <td>14531</td>\n",
       "      <td>15488</td>\n",
       "      <td>30243</td>\n",
       "      <td>437</td>\n",
       "      <td>14841</td>\n",
       "      <td>1867</td>\n",
       "      <td>77407</td>\n",
       "    </tr>\n",
       "    <tr>\n",
       "      <th>438</th>\n",
       "      <td>Other</td>\n",
       "      <td>10290</td>\n",
       "      <td>1981</td>\n",
       "      <td>2232</td>\n",
       "      <td>1038</td>\n",
       "      <td>168</td>\n",
       "      <td>2125</td>\n",
       "      <td>17834</td>\n",
       "    </tr>\n",
       "    <tr>\n",
       "      <th>439</th>\n",
       "      <td>Other</td>\n",
       "      <td>2787</td>\n",
       "      <td>1698</td>\n",
       "      <td>2510</td>\n",
       "      <td>65</td>\n",
       "      <td>477</td>\n",
       "      <td>52</td>\n",
       "      <td>7589</td>\n",
       "    </tr>\n",
       "  </tbody>\n",
       "</table>\n",
       "<p>440 rows × 8 columns</p>\n",
       "</div>"
      ],
      "text/plain": [
       "    Region  Fresh   Milk  Grocery  Frozen  Detergents_Paper  Delicatessen  \\\n",
       "0    Other  12669   9656     7561     214              2674          1338   \n",
       "1    Other   7057   9810     9568    1762              3293          1776   \n",
       "2    Other   6353   8808     7684    2405              3516          7844   \n",
       "3    Other  13265   1196     4221    6404               507          1788   \n",
       "4    Other  22615   5410     7198    3915              1777          5185   \n",
       "..     ...    ...    ...      ...     ...               ...           ...   \n",
       "435  Other  29703  12051    16027   13135               182          2204   \n",
       "436  Other  39228   1431      764    4510                93          2346   \n",
       "437  Other  14531  15488    30243     437             14841          1867   \n",
       "438  Other  10290   1981     2232    1038               168          2125   \n",
       "439  Other   2787   1698     2510      65               477            52   \n",
       "\n",
       "     Total Spending  \n",
       "0             34112  \n",
       "1             33266  \n",
       "2             36610  \n",
       "3             27381  \n",
       "4             46100  \n",
       "..              ...  \n",
       "435           73302  \n",
       "436           48372  \n",
       "437           77407  \n",
       "438           17834  \n",
       "439            7589  \n",
       "\n",
       "[440 rows x 8 columns]"
      ]
     },
     "execution_count": 144,
     "metadata": {},
     "output_type": "execute_result"
    }
   ],
   "source": [
    "productdf.drop(['Channel'],axis=1)"
   ]
  },
  {
   "cell_type": "code",
   "execution_count": 145,
   "id": "1a6e1b8b",
   "metadata": {},
   "outputs": [
    {
     "data": {
      "text/html": [
       "<div>\n",
       "<style scoped>\n",
       "    .dataframe tbody tr th:only-of-type {\n",
       "        vertical-align: middle;\n",
       "    }\n",
       "\n",
       "    .dataframe tbody tr th {\n",
       "        vertical-align: top;\n",
       "    }\n",
       "\n",
       "    .dataframe thead th {\n",
       "        text-align: right;\n",
       "    }\n",
       "</style>\n",
       "<table border=\"1\" class=\"dataframe\">\n",
       "  <thead>\n",
       "    <tr style=\"text-align: right;\">\n",
       "      <th></th>\n",
       "      <th>Channel</th>\n",
       "      <th>Fresh</th>\n",
       "      <th>Milk</th>\n",
       "      <th>Grocery</th>\n",
       "      <th>Frozen</th>\n",
       "      <th>Detergents_Paper</th>\n",
       "      <th>Delicatessen</th>\n",
       "      <th>Total Spending</th>\n",
       "    </tr>\n",
       "  </thead>\n",
       "  <tbody>\n",
       "    <tr>\n",
       "      <th>0</th>\n",
       "      <td>Retail</td>\n",
       "      <td>12669</td>\n",
       "      <td>9656</td>\n",
       "      <td>7561</td>\n",
       "      <td>214</td>\n",
       "      <td>2674</td>\n",
       "      <td>1338</td>\n",
       "      <td>34112</td>\n",
       "    </tr>\n",
       "    <tr>\n",
       "      <th>1</th>\n",
       "      <td>Retail</td>\n",
       "      <td>7057</td>\n",
       "      <td>9810</td>\n",
       "      <td>9568</td>\n",
       "      <td>1762</td>\n",
       "      <td>3293</td>\n",
       "      <td>1776</td>\n",
       "      <td>33266</td>\n",
       "    </tr>\n",
       "    <tr>\n",
       "      <th>2</th>\n",
       "      <td>Retail</td>\n",
       "      <td>6353</td>\n",
       "      <td>8808</td>\n",
       "      <td>7684</td>\n",
       "      <td>2405</td>\n",
       "      <td>3516</td>\n",
       "      <td>7844</td>\n",
       "      <td>36610</td>\n",
       "    </tr>\n",
       "    <tr>\n",
       "      <th>3</th>\n",
       "      <td>Hotel</td>\n",
       "      <td>13265</td>\n",
       "      <td>1196</td>\n",
       "      <td>4221</td>\n",
       "      <td>6404</td>\n",
       "      <td>507</td>\n",
       "      <td>1788</td>\n",
       "      <td>27381</td>\n",
       "    </tr>\n",
       "    <tr>\n",
       "      <th>4</th>\n",
       "      <td>Retail</td>\n",
       "      <td>22615</td>\n",
       "      <td>5410</td>\n",
       "      <td>7198</td>\n",
       "      <td>3915</td>\n",
       "      <td>1777</td>\n",
       "      <td>5185</td>\n",
       "      <td>46100</td>\n",
       "    </tr>\n",
       "    <tr>\n",
       "      <th>...</th>\n",
       "      <td>...</td>\n",
       "      <td>...</td>\n",
       "      <td>...</td>\n",
       "      <td>...</td>\n",
       "      <td>...</td>\n",
       "      <td>...</td>\n",
       "      <td>...</td>\n",
       "      <td>...</td>\n",
       "    </tr>\n",
       "    <tr>\n",
       "      <th>435</th>\n",
       "      <td>Hotel</td>\n",
       "      <td>29703</td>\n",
       "      <td>12051</td>\n",
       "      <td>16027</td>\n",
       "      <td>13135</td>\n",
       "      <td>182</td>\n",
       "      <td>2204</td>\n",
       "      <td>73302</td>\n",
       "    </tr>\n",
       "    <tr>\n",
       "      <th>436</th>\n",
       "      <td>Hotel</td>\n",
       "      <td>39228</td>\n",
       "      <td>1431</td>\n",
       "      <td>764</td>\n",
       "      <td>4510</td>\n",
       "      <td>93</td>\n",
       "      <td>2346</td>\n",
       "      <td>48372</td>\n",
       "    </tr>\n",
       "    <tr>\n",
       "      <th>437</th>\n",
       "      <td>Retail</td>\n",
       "      <td>14531</td>\n",
       "      <td>15488</td>\n",
       "      <td>30243</td>\n",
       "      <td>437</td>\n",
       "      <td>14841</td>\n",
       "      <td>1867</td>\n",
       "      <td>77407</td>\n",
       "    </tr>\n",
       "    <tr>\n",
       "      <th>438</th>\n",
       "      <td>Hotel</td>\n",
       "      <td>10290</td>\n",
       "      <td>1981</td>\n",
       "      <td>2232</td>\n",
       "      <td>1038</td>\n",
       "      <td>168</td>\n",
       "      <td>2125</td>\n",
       "      <td>17834</td>\n",
       "    </tr>\n",
       "    <tr>\n",
       "      <th>439</th>\n",
       "      <td>Hotel</td>\n",
       "      <td>2787</td>\n",
       "      <td>1698</td>\n",
       "      <td>2510</td>\n",
       "      <td>65</td>\n",
       "      <td>477</td>\n",
       "      <td>52</td>\n",
       "      <td>7589</td>\n",
       "    </tr>\n",
       "  </tbody>\n",
       "</table>\n",
       "<p>440 rows × 8 columns</p>\n",
       "</div>"
      ],
      "text/plain": [
       "    Channel  Fresh   Milk  Grocery  Frozen  Detergents_Paper  Delicatessen  \\\n",
       "0    Retail  12669   9656     7561     214              2674          1338   \n",
       "1    Retail   7057   9810     9568    1762              3293          1776   \n",
       "2    Retail   6353   8808     7684    2405              3516          7844   \n",
       "3     Hotel  13265   1196     4221    6404               507          1788   \n",
       "4    Retail  22615   5410     7198    3915              1777          5185   \n",
       "..      ...    ...    ...      ...     ...               ...           ...   \n",
       "435   Hotel  29703  12051    16027   13135               182          2204   \n",
       "436   Hotel  39228   1431      764    4510                93          2346   \n",
       "437  Retail  14531  15488    30243     437             14841          1867   \n",
       "438   Hotel  10290   1981     2232    1038               168          2125   \n",
       "439   Hotel   2787   1698     2510      65               477            52   \n",
       "\n",
       "     Total Spending  \n",
       "0             34112  \n",
       "1             33266  \n",
       "2             36610  \n",
       "3             27381  \n",
       "4             46100  \n",
       "..              ...  \n",
       "435           73302  \n",
       "436           48372  \n",
       "437           77407  \n",
       "438           17834  \n",
       "439            7589  \n",
       "\n",
       "[440 rows x 8 columns]"
      ]
     },
     "execution_count": 145,
     "metadata": {},
     "output_type": "execute_result"
    }
   ],
   "source": [
    "productdf.drop(['Region'],axis=1)"
   ]
  },
  {
   "cell_type": "code",
   "execution_count": 146,
   "id": "7dd7c774",
   "metadata": {},
   "outputs": [
    {
     "data": {
      "text/html": [
       "<div>\n",
       "<style scoped>\n",
       "    .dataframe tbody tr th:only-of-type {\n",
       "        vertical-align: middle;\n",
       "    }\n",
       "\n",
       "    .dataframe tbody tr th {\n",
       "        vertical-align: top;\n",
       "    }\n",
       "\n",
       "    .dataframe thead th {\n",
       "        text-align: right;\n",
       "    }\n",
       "</style>\n",
       "<table border=\"1\" class=\"dataframe\">\n",
       "  <thead>\n",
       "    <tr style=\"text-align: right;\">\n",
       "      <th></th>\n",
       "      <th>Fresh</th>\n",
       "      <th>Milk</th>\n",
       "      <th>Grocery</th>\n",
       "      <th>Frozen</th>\n",
       "      <th>Detergents_Paper</th>\n",
       "      <th>Delicatessen</th>\n",
       "      <th>Total Spending</th>\n",
       "    </tr>\n",
       "  </thead>\n",
       "  <tbody>\n",
       "    <tr>\n",
       "      <th>count</th>\n",
       "      <td>440.000000</td>\n",
       "      <td>440.000000</td>\n",
       "      <td>440.000000</td>\n",
       "      <td>440.000000</td>\n",
       "      <td>440.000000</td>\n",
       "      <td>440.000000</td>\n",
       "      <td>440.000000</td>\n",
       "    </tr>\n",
       "    <tr>\n",
       "      <th>mean</th>\n",
       "      <td>12000.297727</td>\n",
       "      <td>5796.265909</td>\n",
       "      <td>7951.277273</td>\n",
       "      <td>3071.931818</td>\n",
       "      <td>2881.493182</td>\n",
       "      <td>1524.870455</td>\n",
       "      <td>33226.136364</td>\n",
       "    </tr>\n",
       "    <tr>\n",
       "      <th>std</th>\n",
       "      <td>12647.328865</td>\n",
       "      <td>7380.377175</td>\n",
       "      <td>9503.162829</td>\n",
       "      <td>4854.673333</td>\n",
       "      <td>4767.854448</td>\n",
       "      <td>2820.105937</td>\n",
       "      <td>26356.301730</td>\n",
       "    </tr>\n",
       "    <tr>\n",
       "      <th>min</th>\n",
       "      <td>3.000000</td>\n",
       "      <td>55.000000</td>\n",
       "      <td>3.000000</td>\n",
       "      <td>25.000000</td>\n",
       "      <td>3.000000</td>\n",
       "      <td>3.000000</td>\n",
       "      <td>904.000000</td>\n",
       "    </tr>\n",
       "    <tr>\n",
       "      <th>25%</th>\n",
       "      <td>3127.750000</td>\n",
       "      <td>1533.000000</td>\n",
       "      <td>2153.000000</td>\n",
       "      <td>742.250000</td>\n",
       "      <td>256.750000</td>\n",
       "      <td>408.250000</td>\n",
       "      <td>17448.750000</td>\n",
       "    </tr>\n",
       "    <tr>\n",
       "      <th>50%</th>\n",
       "      <td>8504.000000</td>\n",
       "      <td>3627.000000</td>\n",
       "      <td>4755.500000</td>\n",
       "      <td>1526.000000</td>\n",
       "      <td>816.500000</td>\n",
       "      <td>965.500000</td>\n",
       "      <td>27492.000000</td>\n",
       "    </tr>\n",
       "    <tr>\n",
       "      <th>75%</th>\n",
       "      <td>16933.750000</td>\n",
       "      <td>7190.250000</td>\n",
       "      <td>10655.750000</td>\n",
       "      <td>3554.250000</td>\n",
       "      <td>3922.000000</td>\n",
       "      <td>1820.250000</td>\n",
       "      <td>41307.500000</td>\n",
       "    </tr>\n",
       "    <tr>\n",
       "      <th>max</th>\n",
       "      <td>112151.000000</td>\n",
       "      <td>73498.000000</td>\n",
       "      <td>92780.000000</td>\n",
       "      <td>60869.000000</td>\n",
       "      <td>40827.000000</td>\n",
       "      <td>47943.000000</td>\n",
       "      <td>199891.000000</td>\n",
       "    </tr>\n",
       "  </tbody>\n",
       "</table>\n",
       "</div>"
      ],
      "text/plain": [
       "               Fresh          Milk       Grocery        Frozen  \\\n",
       "count     440.000000    440.000000    440.000000    440.000000   \n",
       "mean    12000.297727   5796.265909   7951.277273   3071.931818   \n",
       "std     12647.328865   7380.377175   9503.162829   4854.673333   \n",
       "min         3.000000     55.000000      3.000000     25.000000   \n",
       "25%      3127.750000   1533.000000   2153.000000    742.250000   \n",
       "50%      8504.000000   3627.000000   4755.500000   1526.000000   \n",
       "75%     16933.750000   7190.250000  10655.750000   3554.250000   \n",
       "max    112151.000000  73498.000000  92780.000000  60869.000000   \n",
       "\n",
       "       Detergents_Paper  Delicatessen  Total Spending  \n",
       "count        440.000000    440.000000      440.000000  \n",
       "mean        2881.493182   1524.870455    33226.136364  \n",
       "std         4767.854448   2820.105937    26356.301730  \n",
       "min            3.000000      3.000000      904.000000  \n",
       "25%          256.750000    408.250000    17448.750000  \n",
       "50%          816.500000    965.500000    27492.000000  \n",
       "75%         3922.000000   1820.250000    41307.500000  \n",
       "max        40827.000000  47943.000000   199891.000000  "
      ]
     },
     "execution_count": 146,
     "metadata": {},
     "output_type": "execute_result"
    }
   ],
   "source": [
    "productdf.describe()"
   ]
  },
  {
   "cell_type": "code",
   "execution_count": 149,
   "id": "a7d3d7cb",
   "metadata": {},
   "outputs": [
    {
     "data": {
      "text/plain": [
       "1.0527196084948245"
      ]
     },
     "execution_count": 149,
     "metadata": {},
     "output_type": "execute_result"
    }
   ],
   "source": [
    "np.std(productdf['Fresh']) / np.mean(productdf['Fresh'])"
   ]
  },
  {
   "cell_type": "code",
   "execution_count": 156,
   "id": "4394478e",
   "metadata": {
    "scrolled": true
   },
   "outputs": [
    {
     "data": {
      "text/plain": [
       "1.2718508307424503"
      ]
     },
     "execution_count": 156,
     "metadata": {},
     "output_type": "execute_result"
    }
   ],
   "source": [
    "np.std(productdf['Milk']) / np.mean(productdf['Milk'])"
   ]
  },
  {
   "cell_type": "code",
   "execution_count": 157,
   "id": "1761f6d4",
   "metadata": {
    "scrolled": true
   },
   "outputs": [
    {
     "data": {
      "text/plain": [
       "1.193815447749267"
      ]
     },
     "execution_count": 157,
     "metadata": {},
     "output_type": "execute_result"
    }
   ],
   "source": [
    "np.std(productdf['Grocery']) / np.mean(productdf['Grocery'])"
   ]
  },
  {
   "cell_type": "code",
   "execution_count": 158,
   "id": "225d238c",
   "metadata": {},
   "outputs": [
    {
     "data": {
      "text/plain": [
       "1.5785355298607762"
      ]
     },
     "execution_count": 158,
     "metadata": {},
     "output_type": "execute_result"
    }
   ],
   "source": [
    "np.std(productdf['Frozen']) / np.mean(productdf['Frozen'])"
   ]
  },
  {
   "cell_type": "code",
   "execution_count": 159,
   "id": "8fe7cd8a",
   "metadata": {},
   "outputs": [
    {
     "data": {
      "text/plain": [
       "1.6527657881041729"
      ]
     },
     "execution_count": 159,
     "metadata": {},
     "output_type": "execute_result"
    }
   ],
   "source": [
    "np.std(productdf['Detergents_Paper']) / np.mean(productdf['Detergents_Paper'])"
   ]
  },
  {
   "cell_type": "code",
   "execution_count": 160,
   "id": "05f7ef34",
   "metadata": {},
   "outputs": [
    {
     "data": {
      "text/plain": [
       "1.8473041039189306"
      ]
     },
     "execution_count": 160,
     "metadata": {},
     "output_type": "execute_result"
    }
   ],
   "source": [
    "np.std(productdf['Delicatessen']) / np.mean(productdf['Delicatessen'])"
   ]
  },
  {
   "cell_type": "code",
   "execution_count": null,
   "id": "cb343b2c",
   "metadata": {},
   "outputs": [],
   "source": []
  },
  {
   "cell_type": "markdown",
   "id": "a8263943",
   "metadata": {},
   "source": [
    "Q. On the basis of your analysis, what are your recommendations for the business? How can your analysis help the business to solve its problem? Answer from the business perspective"
   ]
  },
  {
   "cell_type": "code",
   "execution_count": null,
   "id": "abf77d03",
   "metadata": {},
   "outputs": [],
   "source": []
  },
  {
   "cell_type": "code",
   "execution_count": null,
   "id": "251884d5",
   "metadata": {},
   "outputs": [],
   "source": []
  },
  {
   "cell_type": "code",
   "execution_count": null,
   "id": "fd83aa03",
   "metadata": {},
   "outputs": [],
   "source": []
  },
  {
   "cell_type": "code",
   "execution_count": null,
   "id": "b96cc5b5",
   "metadata": {},
   "outputs": [],
   "source": []
  }
 ],
 "metadata": {
  "kernelspec": {
   "display_name": "Python 3 (ipykernel)",
   "language": "python",
   "name": "python3"
  },
  "language_info": {
   "codemirror_mode": {
    "name": "ipython",
    "version": 3
   },
   "file_extension": ".py",
   "mimetype": "text/x-python",
   "name": "python",
   "nbconvert_exporter": "python",
   "pygments_lexer": "ipython3",
   "version": "3.9.7"
  }
 },
 "nbformat": 4,
 "nbformat_minor": 5
}
